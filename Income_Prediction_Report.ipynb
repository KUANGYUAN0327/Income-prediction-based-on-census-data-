{
 "cells": [
  {
   "cell_type": "markdown",
   "metadata": {},
   "source": [
    "# Income prediction based on census data\n",
    "\n",
    "## Introduction\n",
    "\n",
    "The prediction task is to determine whether a person makes over 50K a year.\n",
    "\n",
    "In this report, I will use logistic regression and deep neural network (DNN model).\n",
    "\n",
    "## Dataset\n",
    "\n",
    "This dataset is downloaded from Kaggle.\n",
    "\n",
    "Data recource: UCI machine learning repository\n",
    "\n",
    "## import some libraries and our dataset."
   ]
  },
  {
   "cell_type": "code",
   "execution_count": 35,
   "metadata": {},
   "outputs": [],
   "source": [
    "# Import some libraries\n",
    "import pandas as pd\n",
    "import numpy as np\n",
    "import matplotlib as mlt\n",
    "import matplotlib.pyplot as plt\n",
    "import seaborn as sns\n",
    "import sklearn"
   ]
  },
  {
   "cell_type": "code",
   "execution_count": 36,
   "metadata": {},
   "outputs": [],
   "source": [
    "# Import datasets\n",
    "train_data=pd.read_csv('/Users/Stylewsxcde991/Desktop/物聯網下商管統計分析/qbs-competition-1/data/train.csv',index_col=0)\n",
    "X_test=pd.read_csv('/Users/Stylewsxcde991/Desktop/物聯網下商管統計分析/qbs-competition-1/data/test.csv',index_col=0)"
   ]
  },
  {
   "cell_type": "markdown",
   "metadata": {},
   "source": [
    "## Look some basic information of our dataset."
   ]
  },
  {
   "cell_type": "code",
   "execution_count": 37,
   "metadata": {},
   "outputs": [
    {
     "name": "stdout",
     "output_type": "stream",
     "text": [
      "The shape of training data: (29514, 15)\n",
      "\n",
      "The shape of training data: (19328, 14)\n",
      "\n",
      "Basic information of our training data: \n",
      "<class 'pandas.core.frame.DataFrame'>\n",
      "Int64Index: 29514 entries, 2 to 48841\n",
      "Data columns (total 15 columns):\n",
      " #   Column          Non-Null Count  Dtype \n",
      "---  ------          --------------  ----- \n",
      " 0   Age             29514 non-null  int64 \n",
      " 1   Workclass       27665 non-null  object\n",
      " 2   fnlwgt          29514 non-null  int64 \n",
      " 3   Education       29514 non-null  object\n",
      " 4   Education_Num   29514 non-null  int64 \n",
      " 5   Martial_Status  29514 non-null  object\n",
      " 6   Occupation      27657 non-null  object\n",
      " 7   Relationship    29514 non-null  object\n",
      " 8   Race            29514 non-null  object\n",
      " 9   Sex             29514 non-null  object\n",
      " 10  Capital_Gain    29514 non-null  int64 \n",
      " 11  Capital_Loss    29514 non-null  int64 \n",
      " 12  Hours_per_week  29514 non-null  int64 \n",
      " 13  Country         28988 non-null  object\n",
      " 14  Target          29514 non-null  int64 \n",
      "dtypes: int64(7), object(8)\n",
      "memory usage: 3.6+ MB\n",
      "None\n",
      "\n",
      "Basic information of our testing data: \n",
      "<class 'pandas.core.frame.DataFrame'>\n",
      "Int64Index: 19328 entries, 1 to 48842\n",
      "Data columns (total 14 columns):\n",
      " #   Column          Non-Null Count  Dtype \n",
      "---  ------          --------------  ----- \n",
      " 0   Age             19328 non-null  int64 \n",
      " 1   Workclass       18378 non-null  object\n",
      " 2   fnlwgt          19328 non-null  int64 \n",
      " 3   Education       19328 non-null  object\n",
      " 4   Education_Num   19328 non-null  int64 \n",
      " 5   Martial_Status  19328 non-null  object\n",
      " 6   Occupation      18376 non-null  object\n",
      " 7   Relationship    19328 non-null  object\n",
      " 8   Race            19328 non-null  object\n",
      " 9   Sex             19328 non-null  object\n",
      " 10  Capital_Gain    19328 non-null  int64 \n",
      " 11  Capital_Loss    19328 non-null  int64 \n",
      " 12  Hours_per_week  19328 non-null  int64 \n",
      " 13  Country         18997 non-null  object\n",
      "dtypes: int64(6), object(8)\n",
      "memory usage: 2.2+ MB\n",
      "None\n"
     ]
    }
   ],
   "source": [
    "# Some basic information of training data\n",
    "print('The shape of training data: ' + str(train_data.shape))\n",
    "print('')\n",
    "print('The shape of training data: ' + str(X_test.shape))\n",
    "print('')\n",
    "print('Basic information of our training data: ')\n",
    "print(train_data.info())\n",
    "print('')\n",
    "print('Basic information of our testing data: ')\n",
    "print(X_test.info())"
   ]
  },
  {
   "cell_type": "markdown",
   "metadata": {},
   "source": [
    "According to above information, the shape of training data is (29514, 15) and the shape of test data is (19328, 14).\n",
    "    \n",
    "Furthermore, notice that we have missing data problem in our training dataset and test dataset (there are Null value in some features). \n",
    "\n",
    "In particular, we have to deal with the missing data problem of 'Workclass', 'Occupation', 'Country' in our training dataset and testing dataset. We can deal with this problem by replacing all Null value with 'unknown'."
   ]
  },
  {
   "cell_type": "markdown",
   "metadata": {},
   "source": [
    "## Deal with missing data"
   ]
  },
  {
   "cell_type": "code",
   "execution_count": 38,
   "metadata": {},
   "outputs": [],
   "source": [
    "# Deal with missing data\n",
    "train_data.Workclass=train_data.Workclass.fillna('unknown')\n",
    "train_data.Occupation=train_data.Occupation.fillna('unknown')\n",
    "train_data.Country=train_data.Country.fillna('unknown')\n",
    "X_test.Workclass=X_test.Workclass.fillna('unknown')\n",
    "X_test.Occupation=X_test.Occupation.fillna('unknown')\n",
    "X_test.Country=X_test.Country.fillna('unknown')"
   ]
  },
  {
   "cell_type": "markdown",
   "metadata": {},
   "source": [
    "## Proportion of each target class (make over 50k a year or not)."
   ]
  },
  {
   "cell_type": "code",
   "execution_count": 39,
   "metadata": {},
   "outputs": [
    {
     "name": "stdout",
     "output_type": "stream",
     "text": [
      "NotOver50k 26008\n",
      "Over50k 3506\n",
      "Over50k proportion 11.88%\n"
     ]
    },
    {
     "data": {
      "text/plain": [
       "<matplotlib.axes._subplots.AxesSubplot at 0x14cbe90d0>"
      ]
     },
     "execution_count": 39,
     "metadata": {},
     "output_type": "execute_result"
    },
    {
     "data": {
      "image/png": "[encoded data removed]",
      "text/plain": [
       "<Figure size 720x360 with 1 Axes>"
      ]
     },
     "metadata": {
      "needs_background": "light"
     },
     "output_type": "display_data"
    }
   ],
   "source": [
    "# The proportion of each target class\n",
    "NotOver50k,Over50k = train_data.Target.value_counts()\n",
    "print(f'NotOver50k {NotOver50k}')\n",
    "print(f'Over50k {Over50k}')\n",
    "print(f'Over50k proportion {round((100*Over50k/(Over50k+NotOver50k)),2)}%')\n",
    "plt.figure(figsize=(10,5))\n",
    "sns.countplot(train_data['Target'])"
   ]
  },
  {
   "cell_type": "markdown",
   "metadata": {},
   "source": [
    "According to above calculation and plot, there are only 11.88% samples makes over 50K a year. \n",
    "\n",
    "Therefore, our training dataset is quiet imbalanced."
   ]
  },
  {
   "cell_type": "markdown",
   "metadata": {},
   "source": [
    "## Explorative data analysis for numerical features\n",
    "\n",
    "As following, we analyze the correlation coefficients between our numerical features."
   ]
  },
  {
   "cell_type": "code",
   "execution_count": 40,
   "metadata": {},
   "outputs": [
    {
     "data": {
      "text/plain": [
       "Text(0.5, 1, 'Heatmap showing correlations between numerical data')"
      ]
     },
     "execution_count": 40,
     "metadata": {},
     "output_type": "execute_result"
    },
    {
     "data": {
      "image/png": "[encoded data removed]",
      "text/plain": [
       "<Figure size 720x576 with 2 Axes>"
      ]
     },
     "metadata": {
      "needs_background": "light"
     },
     "output_type": "display_data"
    }
   ],
   "source": [
    "# EDA for numerical features\n",
    "# data.corr()\n",
    "plt.figure(figsize=(10,8))  \n",
    "sns.heatmap(train_data.corr(),cmap='Accent',annot=True)\n",
    "plt.title('Heatmap showing correlations between numerical data')"
   ]
  },
  {
   "cell_type": "markdown",
   "metadata": {},
   "source": [
    "One thing to note is that the correlation coefficient between 'fnlwgt' and our target is quiet small (which is -0.01).\n",
    "\n",
    "Therefore, I don't consider 'fnlwgt' in my NN models.\n",
    "\n",
    "(In fact, I have tried to incorporate 'fnlwgt' in my NN models and got really bad results.)\n",
    "\n",
    "In addition, because I think 'Education' and 'Education_Num' contain the same information, I only use 'Education_Num' in my NN models.\n",
    "\n",
    "## Explorative data analysis for categorical features."
   ]
  },
  {
   "cell_type": "code",
   "execution_count": 41,
   "metadata": {},
   "outputs": [],
   "source": [
    "# Drop 'fnlwgt' & 'Education'\n",
    "train_data = train_data.drop(columns=['fnlwgt','Education'])\n",
    "X_test = X_test.drop(columns=['fnlwgt','Education'])"
   ]
  },
  {
   "cell_type": "code",
   "execution_count": 42,
   "metadata": {},
   "outputs": [
    {
     "data": {
      "text/plain": [
       "[Text(0, 0.5, 'Fraction of people with income > $50k')]"
      ]
     },
     "execution_count": 42,
     "metadata": {},
     "output_type": "execute_result"
    },
    {
     "data": {
      "image/png": "[encoded data removed]",
      "text/plain": [
       "<Figure size 720x360 with 1 Axes>"
      ]
     },
     "metadata": {
      "needs_background": "light"
     },
     "output_type": "display_data"
    }
   ],
   "source": [
    "# EDA for categorical features\n",
    "plt.figure(figsize=(10,5))\n",
    "ax = sns.barplot(x='Workclass',y='Target',data=train_data)\n",
    "ax.set(ylabel='Fraction of people with income > $50k')"
   ]
  },
  {
   "cell_type": "markdown",
   "metadata": {},
   "source": [
    "As above, people who are 'Self-emp-inc' are more likely makes over 50K a year."
   ]
  },
  {
   "cell_type": "code",
   "execution_count": 43,
   "metadata": {},
   "outputs": [
    {
     "data": {
      "text/plain": [
       "[Text(0, 0.5, 'Fraction of people with income > $50k')]"
      ]
     },
     "execution_count": 43,
     "metadata": {},
     "output_type": "execute_result"
    },
    {
     "data": {
      "image/png": "[encoded data removed]",
      "text/plain": [
       "<Figure size 720x360 with 1 Axes>"
      ]
     },
     "metadata": {
      "needs_background": "light"
     },
     "output_type": "display_data"
    }
   ],
   "source": [
    "plt.figure(figsize=(10,5))\n",
    "ax = sns.barplot(x='Relationship',y='Target',data=train_data)\n",
    "ax.set(ylabel='Fraction of people with income > $50k')"
   ]
  },
  {
   "cell_type": "markdown",
   "metadata": {},
   "source": [
    "As above, 'Husband' and 'Wife' are more likely makes over 50K a year."
   ]
  },
  {
   "cell_type": "code",
   "execution_count": 44,
   "metadata": {},
   "outputs": [
    {
     "data": {
      "text/plain": [
       "[Text(0, 0.5, 'Fraction of people with income > $50k')]"
      ]
     },
     "execution_count": 44,
     "metadata": {},
     "output_type": "execute_result"
    },
    {
     "data": {
      "image/png": "[encoded data removed]",
      "text/plain": [
       "<Figure size 864x432 with 1 Axes>"
      ]
     },
     "metadata": {
      "needs_background": "light"
     },
     "output_type": "display_data"
    }
   ],
   "source": [
    "plt.figure(figsize=(12,6))\n",
    "ax=sns.barplot(x='Race',y='Target',data=train_data)\n",
    "ax.set(ylabel='Fraction of people with income > $50k')"
   ]
  },
  {
   "cell_type": "markdown",
   "metadata": {},
   "source": [
    "As above, 'White' and 'Asian-Pac-Islander Race' have higher proportion of people who make over 50K a year."
   ]
  },
  {
   "cell_type": "code",
   "execution_count": 45,
   "metadata": {},
   "outputs": [
    {
     "data": {
      "text/plain": [
       "[Text(0, 0.5, 'Fraction of people with income > $50k')]"
      ]
     },
     "execution_count": 45,
     "metadata": {},
     "output_type": "execute_result"
    },
    {
     "data": {
      "image/png": "[encoded data removed]",
      "text/plain": [
       "<Figure size 720x360 with 1 Axes>"
      ]
     },
     "metadata": {
      "needs_background": "light"
     },
     "output_type": "display_data"
    }
   ],
   "source": [
    "plt.figure(figsize=(10,5))\n",
    "ax = sns.barplot(x='Sex',y='Target',data=train_data)\n",
    "ax.set(ylabel='Fraction of people with income > $50k')"
   ]
  },
  {
   "cell_type": "markdown",
   "metadata": {},
   "source": [
    "As above, 'Male' group has higher proportion of people who make over 50K a year."
   ]
  },
  {
   "cell_type": "markdown",
   "metadata": {},
   "source": [
    "## Split the training data into features (X) and label (y)."
   ]
  },
  {
   "cell_type": "code",
   "execution_count": 46,
   "metadata": {},
   "outputs": [],
   "source": [
    "# Split our train_data\n",
    "X_train=train_data.iloc[:,:-1]\n",
    "y_train=train_data.iloc[:,-1]"
   ]
  },
  {
   "cell_type": "markdown",
   "metadata": {},
   "source": [
    "Now, we have to deal with the issue of categorical features.\n",
    "\n",
    "In our training data and testing data, we have many categorical features ('Workclass','Martial_Status', 'Education',\n",
    "'Occupation','Relationship','Race','Sex','Country'). Because our NN models can only deal with numbers, we have to encode these categorical features into numbers.\n",
    "\n",
    "In fact, there are many different ways to encode categorical features. The method I used is so-called 'One-hot encoding' (as following)."
   ]
  },
  {
   "cell_type": "markdown",
   "metadata": {},
   "source": [
    "## One-hot encoding"
   ]
  },
  {
   "cell_type": "code",
   "execution_count": 47,
   "metadata": {},
   "outputs": [],
   "source": [
    "# Use 'One-hot encoding' to encode categorical features.\n",
    "X = X_train.append(X_test)\n",
    "X = pd.get_dummies(X)\n",
    "X_train = X[:29514]\n",
    "X_test = X[29514:]"
   ]
  },
  {
   "cell_type": "markdown",
   "metadata": {},
   "source": [
    "# Standardize the data"
   ]
  },
  {
   "cell_type": "code",
   "execution_count": 48,
   "metadata": {},
   "outputs": [],
   "source": [
    "from sklearn.preprocessing import StandardScaler\n",
    "sc = StandardScaler().fit(X_train)\n",
    "X_train=sc.transform(X_train)\n",
    "X_test=sc.transform(X_test)"
   ]
  },
  {
   "cell_type": "markdown",
   "metadata": {},
   "source": [
    "Now, we transform our datasets from dataframes to arrays, so we can feed them into NN models.\n",
    "\n",
    "In addition, we use 7500 samples in our training dataset to be our validation set and use other samples to train our NN models."
   ]
  },
  {
   "cell_type": "code",
   "execution_count": 49,
   "metadata": {},
   "outputs": [],
   "source": [
    "# Change dataframes to arrays\n",
    "X_train = np.asarray(X_train)\n",
    "X_test = np.asarray(X_test)\n",
    "y_train = np.asarray(y_train).astype('float32')\n",
    "\n",
    "# validation set\n",
    "X_valid = X_train[:7500]\n",
    "partial_X_train = X_train[7500:]\n",
    "y_valid = y_train[:7500]\n",
    "partial_y_train = y_train[7500:]"
   ]
  },
  {
   "cell_type": "markdown",
   "metadata": {},
   "source": [
    "## Logistic Regression"
   ]
  },
  {
   "cell_type": "markdown",
   "metadata": {},
   "source": [
    "So far, we have dealed with all issues of data pre-processing. \n",
    "\n",
    "Now, we can start to build our logistic regression model."
   ]
  },
  {
   "cell_type": "code",
   "execution_count": 50,
   "metadata": {},
   "outputs": [
    {
     "data": {
      "text/plain": [
       "0.9138666666666667"
      ]
     },
     "execution_count": 50,
     "metadata": {},
     "output_type": "execute_result"
    }
   ],
   "source": [
    "# logistic model\n",
    "from sklearn.linear_model import LogisticRegression\n",
    "logistic_model = LogisticRegression(random_state=0).fit(X_train, y_train)\n",
    "logistic_model.score(X_valid,y_valid)"
   ]
  },
  {
   "cell_type": "markdown",
   "metadata": {},
   "source": [
    "As above, it's mean accuracy on validation data set is about 0.91"
   ]
  },
  {
   "cell_type": "markdown",
   "metadata": {},
   "source": [
    "## Deep neural network (DNN model)"
   ]
  },
  {
   "cell_type": "markdown",
   "metadata": {},
   "source": [
    "Now, we can start to build our NN models.\n",
    "\n",
    "<mark>DL model draft:<mark>  \n",
    "    \n",
    "3 hidden layers in this model.\n",
    "\n",
    "The first hidden layer: 16 units with 'relu' activation function.\n",
    "\n",
    "The second hidden layer: 16 units with 'relu' activation function.\n",
    "\n",
    "The third hidden layer: 1 unit with 'sigmoid' activation function.\n",
    "    \n",
    "I choose the 'rmsprop' optimizer, 'binary_crossentropy' loss function, and the 'accuracy' metrics.\n",
    "    \n",
    "<mark>parameter initialization:<mark>\n",
    "    \n",
    "I use 200 epochs to train my model. The batch_size of my model is 512.\n",
    "\n",
    "<mark>parameter tuning:<mark> \n",
    "\n",
    "Because I think this model did well in my training dataset, I didn't tune it's parameters."
   ]
  },
  {
   "cell_type": "markdown",
   "metadata": {},
   "source": [
    "To begin with, we build our NN model with very simple structure as following."
   ]
  },
  {
   "cell_type": "code",
   "execution_count": 51,
   "metadata": {},
   "outputs": [],
   "source": [
    "# Construct our model\n",
    "from keras import models\n",
    "from keras import layers\n",
    "\n",
    "model = models.Sequential()\n",
    "model.add(layers.Dense(16, activation='relu'))\n",
    "model.add(layers.Dense(16, activation='relu'))\n",
    "model.add(layers.Dense(1, activation='sigmoid'))\n",
    "\n",
    "model.compile(optimizer='rmsprop',\n",
    "              loss='binary_crossentropy',\n",
    "              metrics=['accuracy'])"
   ]
  },
  {
   "cell_type": "markdown",
   "metadata": {},
   "source": [
    "Now we can start to fit our NN model and record all information in 'history'."
   ]
  },
  {
   "cell_type": "code",
   "execution_count": 52,
   "metadata": {},
   "outputs": [
    {
     "name": "stdout",
     "output_type": "stream",
     "text": [
      "Train on 22014 samples, validate on 7500 samples\n",
      "Epoch 1/200\n",
      "22014/22014 [==============================] - 0s 15us/step - loss: 0.4612 - accuracy: 0.8333 - val_loss: 0.3303 - val_accuracy: 0.8879\n",
      "Epoch 2/200\n",
      "22014/22014 [==============================] - 0s 8us/step - loss: 0.2903 - accuracy: 0.8904 - val_loss: 0.2616 - val_accuracy: 0.9004\n",
      "Epoch 3/200\n",
      "22014/22014 [==============================] - 0s 8us/step - loss: 0.2518 - accuracy: 0.8997 - val_loss: 0.2428 - val_accuracy: 0.9036\n",
      "Epoch 4/200\n",
      "22014/22014 [==============================] - 0s 9us/step - loss: 0.2399 - accuracy: 0.9017 - val_loss: 0.2372 - val_accuracy: 0.9048\n",
      "Epoch 5/200\n",
      "22014/22014 [==============================] - 0s 10us/step - loss: 0.2339 - accuracy: 0.9039 - val_loss: 0.2340 - val_accuracy: 0.9060\n",
      "Epoch 6/200\n",
      "22014/22014 [==============================] - 0s 8us/step - loss: 0.2299 - accuracy: 0.9054 - val_loss: 0.2309 - val_accuracy: 0.9079\n",
      "Epoch 7/200\n",
      "22014/22014 [==============================] - 0s 10us/step - loss: 0.2270 - accuracy: 0.9063 - val_loss: 0.2292 - val_accuracy: 0.9088\n",
      "Epoch 8/200\n",
      "22014/22014 [==============================] - 0s 12us/step - loss: 0.2246 - accuracy: 0.9077 - val_loss: 0.2278 - val_accuracy: 0.9096\n",
      "Epoch 9/200\n",
      "22014/22014 [==============================] - 0s 8us/step - loss: 0.2227 - accuracy: 0.9082 - val_loss: 0.2271 - val_accuracy: 0.9087\n",
      "Epoch 10/200\n",
      "22014/22014 [==============================] - 0s 8us/step - loss: 0.2211 - accuracy: 0.9088 - val_loss: 0.2264 - val_accuracy: 0.9100\n",
      "Epoch 11/200\n",
      "22014/22014 [==============================] - 0s 8us/step - loss: 0.2197 - accuracy: 0.9095 - val_loss: 0.2252 - val_accuracy: 0.9100\n",
      "Epoch 12/200\n",
      "22014/22014 [==============================] - 0s 8us/step - loss: 0.2186 - accuracy: 0.9101 - val_loss: 0.2254 - val_accuracy: 0.9096\n",
      "Epoch 13/200\n",
      "22014/22014 [==============================] - 0s 9us/step - loss: 0.2173 - accuracy: 0.9101 - val_loss: 0.2263 - val_accuracy: 0.9085\n",
      "Epoch 14/200\n",
      "22014/22014 [==============================] - 0s 8us/step - loss: 0.2168 - accuracy: 0.9113 - val_loss: 0.2249 - val_accuracy: 0.9097\n",
      "Epoch 15/200\n",
      "22014/22014 [==============================] - 0s 8us/step - loss: 0.2160 - accuracy: 0.9111 - val_loss: 0.2246 - val_accuracy: 0.9097\n",
      "Epoch 16/200\n",
      "22014/22014 [==============================] - 0s 8us/step - loss: 0.2153 - accuracy: 0.9111 - val_loss: 0.2246 - val_accuracy: 0.9100\n",
      "Epoch 17/200\n",
      "22014/22014 [==============================] - 0s 8us/step - loss: 0.2147 - accuracy: 0.9114 - val_loss: 0.2248 - val_accuracy: 0.9101\n",
      "Epoch 18/200\n",
      "22014/22014 [==============================] - 0s 11us/step - loss: 0.2141 - accuracy: 0.9115 - val_loss: 0.2251 - val_accuracy: 0.9099\n",
      "Epoch 19/200\n",
      "22014/22014 [==============================] - 0s 8us/step - loss: 0.2136 - accuracy: 0.9114 - val_loss: 0.2255 - val_accuracy: 0.9099\n",
      "Epoch 20/200\n",
      "22014/22014 [==============================] - 0s 7us/step - loss: 0.2131 - accuracy: 0.9112 - val_loss: 0.2248 - val_accuracy: 0.9100\n",
      "Epoch 21/200\n",
      "22014/22014 [==============================] - 0s 7us/step - loss: 0.2127 - accuracy: 0.9118 - val_loss: 0.2248 - val_accuracy: 0.9105\n",
      "Epoch 22/200\n",
      "22014/22014 [==============================] - 0s 7us/step - loss: 0.2122 - accuracy: 0.9114 - val_loss: 0.2253 - val_accuracy: 0.9109\n",
      "Epoch 23/200\n",
      "22014/22014 [==============================] - 0s 11us/step - loss: 0.2117 - accuracy: 0.9123 - val_loss: 0.2251 - val_accuracy: 0.9100\n",
      "Epoch 24/200\n",
      "22014/22014 [==============================] - 0s 8us/step - loss: 0.2115 - accuracy: 0.9124 - val_loss: 0.2248 - val_accuracy: 0.9109\n",
      "Epoch 25/200\n",
      "22014/22014 [==============================] - 0s 7us/step - loss: 0.2109 - accuracy: 0.9115 - val_loss: 0.2259 - val_accuracy: 0.9092\n",
      "Epoch 26/200\n",
      "22014/22014 [==============================] - 0s 7us/step - loss: 0.2107 - accuracy: 0.9126 - val_loss: 0.2255 - val_accuracy: 0.9099\n",
      "Epoch 27/200\n",
      "22014/22014 [==============================] - 0s 7us/step - loss: 0.2103 - accuracy: 0.9127 - val_loss: 0.2253 - val_accuracy: 0.9113\n",
      "Epoch 28/200\n",
      "22014/22014 [==============================] - 0s 8us/step - loss: 0.2099 - accuracy: 0.9127 - val_loss: 0.2254 - val_accuracy: 0.9099\n",
      "Epoch 29/200\n",
      "22014/22014 [==============================] - 0s 7us/step - loss: 0.2097 - accuracy: 0.9128 - val_loss: 0.2252 - val_accuracy: 0.9117\n",
      "Epoch 30/200\n",
      "22014/22014 [==============================] - 0s 8us/step - loss: 0.2092 - accuracy: 0.9126 - val_loss: 0.2248 - val_accuracy: 0.9117\n",
      "Epoch 31/200\n",
      "22014/22014 [==============================] - 0s 7us/step - loss: 0.2089 - accuracy: 0.9135 - val_loss: 0.2257 - val_accuracy: 0.9109\n",
      "Epoch 32/200\n",
      "22014/22014 [==============================] - 0s 8us/step - loss: 0.2087 - accuracy: 0.9127 - val_loss: 0.2255 - val_accuracy: 0.9103\n",
      "Epoch 33/200\n",
      "22014/22014 [==============================] - 0s 8us/step - loss: 0.2082 - accuracy: 0.9136 - val_loss: 0.2253 - val_accuracy: 0.9104\n",
      "Epoch 34/200\n",
      "22014/22014 [==============================] - 0s 7us/step - loss: 0.2080 - accuracy: 0.9137 - val_loss: 0.2261 - val_accuracy: 0.9116\n",
      "Epoch 35/200\n",
      "22014/22014 [==============================] - 0s 7us/step - loss: 0.2078 - accuracy: 0.9139 - val_loss: 0.2261 - val_accuracy: 0.9112\n",
      "Epoch 36/200\n",
      "22014/22014 [==============================] - 0s 9us/step - loss: 0.2075 - accuracy: 0.9131 - val_loss: 0.2263 - val_accuracy: 0.9097\n",
      "Epoch 37/200\n",
      "22014/22014 [==============================] - 0s 7us/step - loss: 0.2074 - accuracy: 0.9134 - val_loss: 0.2262 - val_accuracy: 0.9096\n",
      "Epoch 38/200\n",
      "22014/22014 [==============================] - 0s 8us/step - loss: 0.2071 - accuracy: 0.9139 - val_loss: 0.2259 - val_accuracy: 0.9100\n",
      "Epoch 39/200\n",
      "22014/22014 [==============================] - 0s 8us/step - loss: 0.2068 - accuracy: 0.9141 - val_loss: 0.2262 - val_accuracy: 0.9111\n",
      "Epoch 40/200\n",
      "22014/22014 [==============================] - 0s 7us/step - loss: 0.2067 - accuracy: 0.9140 - val_loss: 0.2264 - val_accuracy: 0.9115\n",
      "Epoch 41/200\n",
      "22014/22014 [==============================] - 0s 7us/step - loss: 0.2061 - accuracy: 0.9144 - val_loss: 0.2268 - val_accuracy: 0.9109\n",
      "Epoch 42/200\n",
      "22014/22014 [==============================] - 0s 8us/step - loss: 0.2061 - accuracy: 0.9136 - val_loss: 0.2270 - val_accuracy: 0.9096\n",
      "Epoch 43/200\n",
      "22014/22014 [==============================] - 0s 7us/step - loss: 0.2058 - accuracy: 0.9141 - val_loss: 0.2268 - val_accuracy: 0.9101\n",
      "Epoch 44/200\n",
      "22014/22014 [==============================] - 0s 7us/step - loss: 0.2057 - accuracy: 0.9140 - val_loss: 0.2268 - val_accuracy: 0.9088\n",
      "Epoch 45/200\n",
      "22014/22014 [==============================] - 0s 7us/step - loss: 0.2053 - accuracy: 0.9142 - val_loss: 0.2270 - val_accuracy: 0.9097\n",
      "Epoch 46/200\n",
      "22014/22014 [==============================] - 0s 7us/step - loss: 0.2052 - accuracy: 0.9141 - val_loss: 0.2273 - val_accuracy: 0.9097\n",
      "Epoch 47/200\n",
      "22014/22014 [==============================] - 0s 6us/step - loss: 0.2048 - accuracy: 0.9143 - val_loss: 0.2271 - val_accuracy: 0.9089\n",
      "Epoch 48/200\n",
      "22014/22014 [==============================] - 0s 7us/step - loss: 0.2048 - accuracy: 0.9145 - val_loss: 0.2273 - val_accuracy: 0.9101\n",
      "Epoch 49/200\n",
      "22014/22014 [==============================] - 0s 7us/step - loss: 0.2045 - accuracy: 0.9153 - val_loss: 0.2271 - val_accuracy: 0.9096\n",
      "Epoch 50/200\n",
      "22014/22014 [==============================] - 0s 8us/step - loss: 0.2043 - accuracy: 0.9145 - val_loss: 0.2279 - val_accuracy: 0.9089\n",
      "Epoch 51/200\n",
      "22014/22014 [==============================] - 0s 7us/step - loss: 0.2041 - accuracy: 0.9146 - val_loss: 0.2274 - val_accuracy: 0.9087\n",
      "Epoch 52/200\n",
      "22014/22014 [==============================] - 0s 7us/step - loss: 0.2037 - accuracy: 0.9149 - val_loss: 0.2284 - val_accuracy: 0.9091\n",
      "Epoch 53/200\n",
      "22014/22014 [==============================] - 0s 7us/step - loss: 0.2039 - accuracy: 0.9151 - val_loss: 0.2282 - val_accuracy: 0.9093\n",
      "Epoch 54/200\n",
      "22014/22014 [==============================] - 0s 8us/step - loss: 0.2035 - accuracy: 0.9144 - val_loss: 0.2283 - val_accuracy: 0.9093\n",
      "Epoch 55/200\n",
      "22014/22014 [==============================] - 0s 8us/step - loss: 0.2033 - accuracy: 0.9150 - val_loss: 0.2282 - val_accuracy: 0.9100\n",
      "Epoch 56/200\n"
     ]
    },
    {
     "name": "stdout",
     "output_type": "stream",
     "text": [
      "22014/22014 [==============================] - 0s 7us/step - loss: 0.2033 - accuracy: 0.9143 - val_loss: 0.2279 - val_accuracy: 0.9095\n",
      "Epoch 57/200\n",
      "22014/22014 [==============================] - 0s 7us/step - loss: 0.2031 - accuracy: 0.9140 - val_loss: 0.2284 - val_accuracy: 0.9097\n",
      "Epoch 58/200\n",
      "22014/22014 [==============================] - 0s 6us/step - loss: 0.2028 - accuracy: 0.9150 - val_loss: 0.2287 - val_accuracy: 0.9091\n",
      "Epoch 59/200\n",
      "22014/22014 [==============================] - 0s 7us/step - loss: 0.2029 - accuracy: 0.9143 - val_loss: 0.2286 - val_accuracy: 0.9088\n",
      "Epoch 60/200\n",
      "22014/22014 [==============================] - 0s 7us/step - loss: 0.2025 - accuracy: 0.9150 - val_loss: 0.2285 - val_accuracy: 0.9097\n",
      "Epoch 61/200\n",
      "22014/22014 [==============================] - 0s 7us/step - loss: 0.2024 - accuracy: 0.9152 - val_loss: 0.2290 - val_accuracy: 0.9091\n",
      "Epoch 62/200\n",
      "22014/22014 [==============================] - 0s 7us/step - loss: 0.2023 - accuracy: 0.9149 - val_loss: 0.2293 - val_accuracy: 0.9091\n",
      "Epoch 63/200\n",
      "22014/22014 [==============================] - 0s 10us/step - loss: 0.2021 - accuracy: 0.9150 - val_loss: 0.2293 - val_accuracy: 0.9095\n",
      "Epoch 64/200\n",
      "22014/22014 [==============================] - 0s 7us/step - loss: 0.2018 - accuracy: 0.9154 - val_loss: 0.2302 - val_accuracy: 0.9076\n",
      "Epoch 65/200\n",
      "22014/22014 [==============================] - 0s 7us/step - loss: 0.2019 - accuracy: 0.9149 - val_loss: 0.2293 - val_accuracy: 0.9097\n",
      "Epoch 66/200\n",
      "22014/22014 [==============================] - 0s 8us/step - loss: 0.2016 - accuracy: 0.9156 - val_loss: 0.2298 - val_accuracy: 0.9091\n",
      "Epoch 67/200\n",
      "22014/22014 [==============================] - 0s 8us/step - loss: 0.2015 - accuracy: 0.9157 - val_loss: 0.2302 - val_accuracy: 0.9088\n",
      "Epoch 68/200\n",
      "22014/22014 [==============================] - 0s 7us/step - loss: 0.2014 - accuracy: 0.9152 - val_loss: 0.2298 - val_accuracy: 0.9092\n",
      "Epoch 69/200\n",
      "22014/22014 [==============================] - 0s 7us/step - loss: 0.2012 - accuracy: 0.9161 - val_loss: 0.2303 - val_accuracy: 0.9085\n",
      "Epoch 70/200\n",
      "22014/22014 [==============================] - 0s 7us/step - loss: 0.2012 - accuracy: 0.9156 - val_loss: 0.2305 - val_accuracy: 0.9103\n",
      "Epoch 71/200\n",
      "22014/22014 [==============================] - 0s 7us/step - loss: 0.2010 - accuracy: 0.9158 - val_loss: 0.2304 - val_accuracy: 0.9092\n",
      "Epoch 72/200\n",
      "22014/22014 [==============================] - 0s 7us/step - loss: 0.2009 - accuracy: 0.9151 - val_loss: 0.2308 - val_accuracy: 0.9081\n",
      "Epoch 73/200\n",
      "22014/22014 [==============================] - 0s 8us/step - loss: 0.2009 - accuracy: 0.9156 - val_loss: 0.2308 - val_accuracy: 0.9096\n",
      "Epoch 74/200\n",
      "22014/22014 [==============================] - 0s 8us/step - loss: 0.2006 - accuracy: 0.9160 - val_loss: 0.2303 - val_accuracy: 0.9088\n",
      "Epoch 75/200\n",
      "22014/22014 [==============================] - 0s 8us/step - loss: 0.2006 - accuracy: 0.9157 - val_loss: 0.2299 - val_accuracy: 0.9096\n",
      "Epoch 76/200\n",
      "22014/22014 [==============================] - 0s 8us/step - loss: 0.2003 - accuracy: 0.9156 - val_loss: 0.2305 - val_accuracy: 0.9091\n",
      "Epoch 77/200\n",
      "22014/22014 [==============================] - 0s 7us/step - loss: 0.2003 - accuracy: 0.9164 - val_loss: 0.2307 - val_accuracy: 0.9101\n",
      "Epoch 78/200\n",
      "22014/22014 [==============================] - 0s 8us/step - loss: 0.2001 - accuracy: 0.9153 - val_loss: 0.2309 - val_accuracy: 0.9099\n",
      "Epoch 79/200\n",
      "22014/22014 [==============================] - 0s 8us/step - loss: 0.2001 - accuracy: 0.9157 - val_loss: 0.2316 - val_accuracy: 0.9089\n",
      "Epoch 80/200\n",
      "22014/22014 [==============================] - 0s 7us/step - loss: 0.2001 - accuracy: 0.9156 - val_loss: 0.2309 - val_accuracy: 0.9095\n",
      "Epoch 81/200\n",
      "22014/22014 [==============================] - 0s 8us/step - loss: 0.1999 - accuracy: 0.9156 - val_loss: 0.2314 - val_accuracy: 0.9093\n",
      "Epoch 82/200\n",
      "22014/22014 [==============================] - 0s 7us/step - loss: 0.1997 - accuracy: 0.9155 - val_loss: 0.2312 - val_accuracy: 0.9089\n",
      "Epoch 83/200\n",
      "22014/22014 [==============================] - 0s 7us/step - loss: 0.1996 - accuracy: 0.9156 - val_loss: 0.2311 - val_accuracy: 0.9096\n",
      "Epoch 84/200\n",
      "22014/22014 [==============================] - 0s 7us/step - loss: 0.1995 - accuracy: 0.9156 - val_loss: 0.2314 - val_accuracy: 0.9093\n",
      "Epoch 85/200\n",
      "22014/22014 [==============================] - 0s 7us/step - loss: 0.1994 - accuracy: 0.9156 - val_loss: 0.2319 - val_accuracy: 0.9097\n",
      "Epoch 86/200\n",
      "22014/22014 [==============================] - 0s 10us/step - loss: 0.1991 - accuracy: 0.9161 - val_loss: 0.2315 - val_accuracy: 0.9089\n",
      "Epoch 87/200\n",
      "22014/22014 [==============================] - 0s 9us/step - loss: 0.1992 - accuracy: 0.9162 - val_loss: 0.2320 - val_accuracy: 0.9095\n",
      "Epoch 88/200\n",
      "22014/22014 [==============================] - 0s 11us/step - loss: 0.1992 - accuracy: 0.9165 - val_loss: 0.2323 - val_accuracy: 0.9100\n",
      "Epoch 89/200\n",
      "22014/22014 [==============================] - 0s 9us/step - loss: 0.1990 - accuracy: 0.9153 - val_loss: 0.2323 - val_accuracy: 0.9081\n",
      "Epoch 90/200\n",
      "22014/22014 [==============================] - 0s 10us/step - loss: 0.1991 - accuracy: 0.9162 - val_loss: 0.2322 - val_accuracy: 0.9093\n",
      "Epoch 91/200\n",
      "22014/22014 [==============================] - 0s 8us/step - loss: 0.1989 - accuracy: 0.9162 - val_loss: 0.2327 - val_accuracy: 0.9080\n",
      "Epoch 92/200\n",
      "22014/22014 [==============================] - 0s 6us/step - loss: 0.1987 - accuracy: 0.9161 - val_loss: 0.2326 - val_accuracy: 0.9084\n",
      "Epoch 93/200\n",
      "22014/22014 [==============================] - 0s 7us/step - loss: 0.1987 - accuracy: 0.9161 - val_loss: 0.2325 - val_accuracy: 0.9087\n",
      "Epoch 94/200\n",
      "22014/22014 [==============================] - 0s 7us/step - loss: 0.1984 - accuracy: 0.9161 - val_loss: 0.2327 - val_accuracy: 0.9095\n",
      "Epoch 95/200\n",
      "22014/22014 [==============================] - 0s 10us/step - loss: 0.1986 - accuracy: 0.9164 - val_loss: 0.2330 - val_accuracy: 0.9080\n",
      "Epoch 96/200\n",
      "22014/22014 [==============================] - 0s 7us/step - loss: 0.1983 - accuracy: 0.9162 - val_loss: 0.2327 - val_accuracy: 0.9093\n",
      "Epoch 97/200\n",
      "22014/22014 [==============================] - 0s 7us/step - loss: 0.1982 - accuracy: 0.9167 - val_loss: 0.2338 - val_accuracy: 0.9091\n",
      "Epoch 98/200\n",
      "22014/22014 [==============================] - 0s 7us/step - loss: 0.1983 - accuracy: 0.9162 - val_loss: 0.2332 - val_accuracy: 0.9084\n",
      "Epoch 99/200\n",
      "22014/22014 [==============================] - 0s 9us/step - loss: 0.1981 - accuracy: 0.9159 - val_loss: 0.2335 - val_accuracy: 0.9073\n",
      "Epoch 100/200\n",
      "22014/22014 [==============================] - 0s 8us/step - loss: 0.1979 - accuracy: 0.9165 - val_loss: 0.2336 - val_accuracy: 0.9083\n",
      "Epoch 101/200\n",
      "22014/22014 [==============================] - 0s 9us/step - loss: 0.1979 - accuracy: 0.9169 - val_loss: 0.2342 - val_accuracy: 0.9075\n",
      "Epoch 102/200\n",
      "22014/22014 [==============================] - 0s 10us/step - loss: 0.1977 - accuracy: 0.9157 - val_loss: 0.2330 - val_accuracy: 0.9093\n",
      "Epoch 103/200\n",
      "22014/22014 [==============================] - 0s 10us/step - loss: 0.1976 - accuracy: 0.9161 - val_loss: 0.2337 - val_accuracy: 0.9079\n",
      "Epoch 104/200\n",
      "22014/22014 [==============================] - 0s 8us/step - loss: 0.1978 - accuracy: 0.9159 - val_loss: 0.2338 - val_accuracy: 0.9067\n",
      "Epoch 105/200\n",
      "22014/22014 [==============================] - 0s 7us/step - loss: 0.1975 - accuracy: 0.9168 - val_loss: 0.2337 - val_accuracy: 0.9087\n",
      "Epoch 106/200\n",
      "22014/22014 [==============================] - 0s 6us/step - loss: 0.1975 - accuracy: 0.9166 - val_loss: 0.2343 - val_accuracy: 0.9080\n",
      "Epoch 107/200\n",
      "22014/22014 [==============================] - 0s 7us/step - loss: 0.1973 - accuracy: 0.9168 - val_loss: 0.2346 - val_accuracy: 0.9087\n",
      "Epoch 108/200\n",
      "22014/22014 [==============================] - 0s 10us/step - loss: 0.1971 - accuracy: 0.9164 - val_loss: 0.2338 - val_accuracy: 0.9093\n",
      "Epoch 109/200\n",
      "22014/22014 [==============================] - 0s 7us/step - loss: 0.1972 - accuracy: 0.9160 - val_loss: 0.2352 - val_accuracy: 0.9071\n",
      "Epoch 110/200\n",
      "22014/22014 [==============================] - 0s 9us/step - loss: 0.1973 - accuracy: 0.9161 - val_loss: 0.2346 - val_accuracy: 0.9088\n",
      "Epoch 111/200\n"
     ]
    },
    {
     "name": "stdout",
     "output_type": "stream",
     "text": [
      "22014/22014 [==============================] - 0s 9us/step - loss: 0.1970 - accuracy: 0.9171 - val_loss: 0.2344 - val_accuracy: 0.9087\n",
      "Epoch 112/200\n",
      "22014/22014 [==============================] - 0s 7us/step - loss: 0.1970 - accuracy: 0.9176 - val_loss: 0.2353 - val_accuracy: 0.9075\n",
      "Epoch 113/200\n",
      "22014/22014 [==============================] - 0s 6us/step - loss: 0.1969 - accuracy: 0.9172 - val_loss: 0.2346 - val_accuracy: 0.9089\n",
      "Epoch 114/200\n",
      "22014/22014 [==============================] - 0s 6us/step - loss: 0.1969 - accuracy: 0.9166 - val_loss: 0.2354 - val_accuracy: 0.9073\n",
      "Epoch 115/200\n",
      "22014/22014 [==============================] - 0s 7us/step - loss: 0.1966 - accuracy: 0.9163 - val_loss: 0.2353 - val_accuracy: 0.9091\n",
      "Epoch 116/200\n",
      "22014/22014 [==============================] - 0s 8us/step - loss: 0.1966 - accuracy: 0.9171 - val_loss: 0.2353 - val_accuracy: 0.9084\n",
      "Epoch 117/200\n",
      "22014/22014 [==============================] - 0s 7us/step - loss: 0.1965 - accuracy: 0.9170 - val_loss: 0.2358 - val_accuracy: 0.9089\n",
      "Epoch 118/200\n",
      "22014/22014 [==============================] - 0s 8us/step - loss: 0.1964 - accuracy: 0.9175 - val_loss: 0.2357 - val_accuracy: 0.9081\n",
      "Epoch 119/200\n",
      "22014/22014 [==============================] - 0s 10us/step - loss: 0.1964 - accuracy: 0.9163 - val_loss: 0.2361 - val_accuracy: 0.9080\n",
      "Epoch 120/200\n",
      "22014/22014 [==============================] - 0s 7us/step - loss: 0.1963 - accuracy: 0.9168 - val_loss: 0.2357 - val_accuracy: 0.9089\n",
      "Epoch 121/200\n",
      "22014/22014 [==============================] - 0s 7us/step - loss: 0.1962 - accuracy: 0.9170 - val_loss: 0.2367 - val_accuracy: 0.9087\n",
      "Epoch 122/200\n",
      "22014/22014 [==============================] - 0s 8us/step - loss: 0.1960 - accuracy: 0.9169 - val_loss: 0.2360 - val_accuracy: 0.9088\n",
      "Epoch 123/200\n",
      "22014/22014 [==============================] - 0s 10us/step - loss: 0.1962 - accuracy: 0.9166 - val_loss: 0.2362 - val_accuracy: 0.9097\n",
      "Epoch 124/200\n",
      "22014/22014 [==============================] - 0s 8us/step - loss: 0.1957 - accuracy: 0.9168 - val_loss: 0.2364 - val_accuracy: 0.9067\n",
      "Epoch 125/200\n",
      "22014/22014 [==============================] - 0s 10us/step - loss: 0.1958 - accuracy: 0.9173 - val_loss: 0.2361 - val_accuracy: 0.9091\n",
      "Epoch 126/200\n",
      "22014/22014 [==============================] - 0s 6us/step - loss: 0.1957 - accuracy: 0.9170 - val_loss: 0.2387 - val_accuracy: 0.9040\n",
      "Epoch 127/200\n",
      "22014/22014 [==============================] - 0s 6us/step - loss: 0.1958 - accuracy: 0.9181 - val_loss: 0.2367 - val_accuracy: 0.9079\n",
      "Epoch 128/200\n",
      "22014/22014 [==============================] - 0s 6us/step - loss: 0.1956 - accuracy: 0.9176 - val_loss: 0.2368 - val_accuracy: 0.9088\n",
      "Epoch 129/200\n",
      "22014/22014 [==============================] - 0s 8us/step - loss: 0.1956 - accuracy: 0.9166 - val_loss: 0.2369 - val_accuracy: 0.9095\n",
      "Epoch 130/200\n",
      "22014/22014 [==============================] - 0s 7us/step - loss: 0.1955 - accuracy: 0.9164 - val_loss: 0.2369 - val_accuracy: 0.9091\n",
      "Epoch 131/200\n",
      "22014/22014 [==============================] - 0s 10us/step - loss: 0.1954 - accuracy: 0.9165 - val_loss: 0.2371 - val_accuracy: 0.9088\n",
      "Epoch 132/200\n",
      "22014/22014 [==============================] - 0s 7us/step - loss: 0.1954 - accuracy: 0.9168 - val_loss: 0.2373 - val_accuracy: 0.9085\n",
      "Epoch 133/200\n",
      "22014/22014 [==============================] - 0s 6us/step - loss: 0.1952 - accuracy: 0.9163 - val_loss: 0.2384 - val_accuracy: 0.9079\n",
      "Epoch 134/200\n",
      "22014/22014 [==============================] - 0s 6us/step - loss: 0.1951 - accuracy: 0.9171 - val_loss: 0.2380 - val_accuracy: 0.9095\n",
      "Epoch 135/200\n",
      "22014/22014 [==============================] - 0s 7us/step - loss: 0.1951 - accuracy: 0.9174 - val_loss: 0.2379 - val_accuracy: 0.9064\n",
      "Epoch 136/200\n",
      "22014/22014 [==============================] - 0s 8us/step - loss: 0.1951 - accuracy: 0.9169 - val_loss: 0.2378 - val_accuracy: 0.9080\n",
      "Epoch 137/200\n",
      "22014/22014 [==============================] - 0s 7us/step - loss: 0.1949 - accuracy: 0.9173 - val_loss: 0.2385 - val_accuracy: 0.9076\n",
      "Epoch 138/200\n",
      "22014/22014 [==============================] - 0s 6us/step - loss: 0.1947 - accuracy: 0.9181 - val_loss: 0.2387 - val_accuracy: 0.9079\n",
      "Epoch 139/200\n",
      "22014/22014 [==============================] - 0s 7us/step - loss: 0.1947 - accuracy: 0.9180 - val_loss: 0.2385 - val_accuracy: 0.9072\n",
      "Epoch 140/200\n",
      "22014/22014 [==============================] - 0s 7us/step - loss: 0.1946 - accuracy: 0.9172 - val_loss: 0.2397 - val_accuracy: 0.9059\n",
      "Epoch 141/200\n",
      "22014/22014 [==============================] - 0s 7us/step - loss: 0.1946 - accuracy: 0.9180 - val_loss: 0.2384 - val_accuracy: 0.9083\n",
      "Epoch 142/200\n",
      "22014/22014 [==============================] - 0s 11us/step - loss: 0.1948 - accuracy: 0.9182 - val_loss: 0.2384 - val_accuracy: 0.9079\n",
      "Epoch 143/200\n",
      "22014/22014 [==============================] - 0s 9us/step - loss: 0.1944 - accuracy: 0.9185 - val_loss: 0.2387 - val_accuracy: 0.9095\n",
      "Epoch 144/200\n",
      "22014/22014 [==============================] - 0s 7us/step - loss: 0.1945 - accuracy: 0.9171 - val_loss: 0.2386 - val_accuracy: 0.9088\n",
      "Epoch 145/200\n",
      "22014/22014 [==============================] - 0s 7us/step - loss: 0.1943 - accuracy: 0.9183 - val_loss: 0.2389 - val_accuracy: 0.9068\n",
      "Epoch 146/200\n",
      "22014/22014 [==============================] - 0s 8us/step - loss: 0.1942 - accuracy: 0.9182 - val_loss: 0.2390 - val_accuracy: 0.9080\n",
      "Epoch 147/200\n",
      "22014/22014 [==============================] - 0s 10us/step - loss: 0.1941 - accuracy: 0.9181 - val_loss: 0.2392 - val_accuracy: 0.9083\n",
      "Epoch 148/200\n",
      "22014/22014 [==============================] - 0s 7us/step - loss: 0.1941 - accuracy: 0.9184 - val_loss: 0.2389 - val_accuracy: 0.9091\n",
      "Epoch 149/200\n",
      "22014/22014 [==============================] - 0s 6us/step - loss: 0.1939 - accuracy: 0.9186 - val_loss: 0.2400 - val_accuracy: 0.9055\n",
      "Epoch 150/200\n",
      "22014/22014 [==============================] - 0s 6us/step - loss: 0.1940 - accuracy: 0.9187 - val_loss: 0.2394 - val_accuracy: 0.9064\n",
      "Epoch 151/200\n",
      "22014/22014 [==============================] - 0s 7us/step - loss: 0.1938 - accuracy: 0.9176 - val_loss: 0.2396 - val_accuracy: 0.9055\n",
      "Epoch 152/200\n",
      "22014/22014 [==============================] - 0s 7us/step - loss: 0.1935 - accuracy: 0.9186 - val_loss: 0.2396 - val_accuracy: 0.9088\n",
      "Epoch 153/200\n",
      "22014/22014 [==============================] - 0s 7us/step - loss: 0.1937 - accuracy: 0.9186 - val_loss: 0.2398 - val_accuracy: 0.9071\n",
      "Epoch 154/200\n",
      "22014/22014 [==============================] - 0s 8us/step - loss: 0.1938 - accuracy: 0.9188 - val_loss: 0.2397 - val_accuracy: 0.9080\n",
      "Epoch 155/200\n",
      "22014/22014 [==============================] - 0s 10us/step - loss: 0.1936 - accuracy: 0.9187 - val_loss: 0.2400 - val_accuracy: 0.9081\n",
      "Epoch 156/200\n",
      "22014/22014 [==============================] - 0s 12us/step - loss: 0.1937 - accuracy: 0.9183 - val_loss: 0.2400 - val_accuracy: 0.9076\n",
      "Epoch 157/200\n",
      "22014/22014 [==============================] - 0s 9us/step - loss: 0.1936 - accuracy: 0.9184 - val_loss: 0.2398 - val_accuracy: 0.9069\n",
      "Epoch 158/200\n",
      "22014/22014 [==============================] - 0s 7us/step - loss: 0.1933 - accuracy: 0.9188 - val_loss: 0.2401 - val_accuracy: 0.9067\n",
      "Epoch 159/200\n",
      "22014/22014 [==============================] - 0s 8us/step - loss: 0.1931 - accuracy: 0.9188 - val_loss: 0.2414 - val_accuracy: 0.9056\n",
      "Epoch 160/200\n",
      "22014/22014 [==============================] - 0s 8us/step - loss: 0.1930 - accuracy: 0.9189 - val_loss: 0.2408 - val_accuracy: 0.9073\n",
      "Epoch 161/200\n",
      "22014/22014 [==============================] - 0s 7us/step - loss: 0.1932 - accuracy: 0.9185 - val_loss: 0.2411 - val_accuracy: 0.9071\n",
      "Epoch 162/200\n",
      "22014/22014 [==============================] - 0s 8us/step - loss: 0.1929 - accuracy: 0.9186 - val_loss: 0.2420 - val_accuracy: 0.9075\n",
      "Epoch 163/200\n",
      "22014/22014 [==============================] - 0s 7us/step - loss: 0.1930 - accuracy: 0.9194 - val_loss: 0.2415 - val_accuracy: 0.9060\n",
      "Epoch 164/200\n",
      "22014/22014 [==============================] - 0s 7us/step - loss: 0.1928 - accuracy: 0.9191 - val_loss: 0.2413 - val_accuracy: 0.9065\n",
      "Epoch 165/200\n",
      "22014/22014 [==============================] - 0s 7us/step - loss: 0.1928 - accuracy: 0.9199 - val_loss: 0.2413 - val_accuracy: 0.9081\n",
      "Epoch 166/200\n"
     ]
    },
    {
     "name": "stdout",
     "output_type": "stream",
     "text": [
      "22014/22014 [==============================] - 0s 7us/step - loss: 0.1928 - accuracy: 0.9194 - val_loss: 0.2414 - val_accuracy: 0.9072\n",
      "Epoch 167/200\n",
      "22014/22014 [==============================] - 0s 7us/step - loss: 0.1927 - accuracy: 0.9193 - val_loss: 0.2418 - val_accuracy: 0.9069\n",
      "Epoch 168/200\n",
      "22014/22014 [==============================] - 0s 7us/step - loss: 0.1925 - accuracy: 0.9186 - val_loss: 0.2415 - val_accuracy: 0.9079\n",
      "Epoch 169/200\n",
      "22014/22014 [==============================] - 0s 7us/step - loss: 0.1926 - accuracy: 0.9193 - val_loss: 0.2425 - val_accuracy: 0.9072\n",
      "Epoch 170/200\n",
      "22014/22014 [==============================] - 0s 7us/step - loss: 0.1926 - accuracy: 0.9190 - val_loss: 0.2417 - val_accuracy: 0.9065\n",
      "Epoch 171/200\n",
      "22014/22014 [==============================] - 0s 6us/step - loss: 0.1922 - accuracy: 0.9185 - val_loss: 0.2422 - val_accuracy: 0.9085\n",
      "Epoch 172/200\n",
      "22014/22014 [==============================] - 0s 7us/step - loss: 0.1923 - accuracy: 0.9192 - val_loss: 0.2436 - val_accuracy: 0.9047\n",
      "Epoch 173/200\n",
      "22014/22014 [==============================] - 0s 7us/step - loss: 0.1922 - accuracy: 0.9186 - val_loss: 0.2429 - val_accuracy: 0.9083\n",
      "Epoch 174/200\n",
      "22014/22014 [==============================] - 0s 7us/step - loss: 0.1923 - accuracy: 0.9196 - val_loss: 0.2427 - val_accuracy: 0.9073\n",
      "Epoch 175/200\n",
      "22014/22014 [==============================] - 0s 7us/step - loss: 0.1920 - accuracy: 0.9189 - val_loss: 0.2428 - val_accuracy: 0.9057\n",
      "Epoch 176/200\n",
      "22014/22014 [==============================] - 0s 7us/step - loss: 0.1922 - accuracy: 0.9195 - val_loss: 0.2427 - val_accuracy: 0.9080\n",
      "Epoch 177/200\n",
      "22014/22014 [==============================] - 0s 7us/step - loss: 0.1919 - accuracy: 0.9198 - val_loss: 0.2437 - val_accuracy: 0.9053\n",
      "Epoch 178/200\n",
      "22014/22014 [==============================] - 0s 6us/step - loss: 0.1920 - accuracy: 0.9196 - val_loss: 0.2430 - val_accuracy: 0.9080\n",
      "Epoch 179/200\n",
      "22014/22014 [==============================] - 0s 7us/step - loss: 0.1919 - accuracy: 0.9196 - val_loss: 0.2438 - val_accuracy: 0.9051\n",
      "Epoch 180/200\n",
      "22014/22014 [==============================] - 0s 8us/step - loss: 0.1917 - accuracy: 0.9200 - val_loss: 0.2434 - val_accuracy: 0.9079\n",
      "Epoch 181/200\n",
      "22014/22014 [==============================] - 0s 7us/step - loss: 0.1918 - accuracy: 0.9187 - val_loss: 0.2439 - val_accuracy: 0.9057\n",
      "Epoch 182/200\n",
      "22014/22014 [==============================] - 0s 7us/step - loss: 0.1915 - accuracy: 0.9199 - val_loss: 0.2433 - val_accuracy: 0.9084\n",
      "Epoch 183/200\n",
      "22014/22014 [==============================] - 0s 7us/step - loss: 0.1915 - accuracy: 0.9193 - val_loss: 0.2450 - val_accuracy: 0.9055\n",
      "Epoch 184/200\n",
      "22014/22014 [==============================] - 0s 8us/step - loss: 0.1914 - accuracy: 0.9199 - val_loss: 0.2436 - val_accuracy: 0.9075\n",
      "Epoch 185/200\n",
      "22014/22014 [==============================] - 0s 9us/step - loss: 0.1915 - accuracy: 0.9193 - val_loss: 0.2436 - val_accuracy: 0.9060\n",
      "Epoch 186/200\n",
      "22014/22014 [==============================] - 0s 6us/step - loss: 0.1915 - accuracy: 0.9196 - val_loss: 0.2440 - val_accuracy: 0.9079\n",
      "Epoch 187/200\n",
      "22014/22014 [==============================] - 0s 7us/step - loss: 0.1914 - accuracy: 0.9194 - val_loss: 0.2446 - val_accuracy: 0.9056\n",
      "Epoch 188/200\n",
      "22014/22014 [==============================] - 0s 6us/step - loss: 0.1915 - accuracy: 0.9200 - val_loss: 0.2452 - val_accuracy: 0.9051\n",
      "Epoch 189/200\n",
      "22014/22014 [==============================] - 0s 9us/step - loss: 0.1912 - accuracy: 0.9199 - val_loss: 0.2442 - val_accuracy: 0.9071\n",
      "Epoch 190/200\n",
      "22014/22014 [==============================] - 0s 7us/step - loss: 0.1912 - accuracy: 0.9192 - val_loss: 0.2448 - val_accuracy: 0.9064\n",
      "Epoch 191/200\n",
      "22014/22014 [==============================] - 0s 7us/step - loss: 0.1913 - accuracy: 0.9201 - val_loss: 0.2444 - val_accuracy: 0.9073\n",
      "Epoch 192/200\n",
      "22014/22014 [==============================] - 0s 6us/step - loss: 0.1911 - accuracy: 0.9196 - val_loss: 0.2453 - val_accuracy: 0.9051\n",
      "Epoch 193/200\n",
      "22014/22014 [==============================] - 0s 7us/step - loss: 0.1911 - accuracy: 0.9196 - val_loss: 0.2447 - val_accuracy: 0.9068\n",
      "Epoch 194/200\n",
      "22014/22014 [==============================] - 0s 7us/step - loss: 0.1911 - accuracy: 0.9201 - val_loss: 0.2450 - val_accuracy: 0.9072\n",
      "Epoch 195/200\n",
      "22014/22014 [==============================] - 0s 7us/step - loss: 0.1910 - accuracy: 0.9198 - val_loss: 0.2460 - val_accuracy: 0.9047\n",
      "Epoch 196/200\n",
      "22014/22014 [==============================] - 0s 7us/step - loss: 0.1906 - accuracy: 0.9207 - val_loss: 0.2483 - val_accuracy: 0.9028\n",
      "Epoch 197/200\n",
      "22014/22014 [==============================] - 0s 7us/step - loss: 0.1908 - accuracy: 0.9193 - val_loss: 0.2458 - val_accuracy: 0.9049\n",
      "Epoch 198/200\n",
      "22014/22014 [==============================] - 0s 7us/step - loss: 0.1908 - accuracy: 0.9198 - val_loss: 0.2464 - val_accuracy: 0.9053\n",
      "Epoch 199/200\n",
      "22014/22014 [==============================] - 0s 7us/step - loss: 0.1908 - accuracy: 0.9191 - val_loss: 0.2457 - val_accuracy: 0.9071\n",
      "Epoch 200/200\n",
      "22014/22014 [==============================] - 0s 7us/step - loss: 0.1907 - accuracy: 0.9198 - val_loss: 0.2452 - val_accuracy: 0.9071\n"
     ]
    }
   ],
   "source": [
    "# Iterate on your training data by calling the fit() method of your model\n",
    "history = model.fit(partial_X_train,\n",
    "                    partial_y_train,\n",
    "                    epochs=200,\n",
    "                    batch_size=512,\n",
    "                    validation_data=(X_valid, y_valid))"
   ]
  },
  {
   "cell_type": "markdown",
   "metadata": {},
   "source": [
    "Now, we can plot the results of loss values from the training and validation set."
   ]
  },
  {
   "cell_type": "code",
   "execution_count": 53,
   "metadata": {},
   "outputs": [
    {
     "data": {
      "image/png": "[encoded data removed]",
      "text/plain": [
       "<Figure size 720x432 with 1 Axes>"
      ]
     },
     "metadata": {
      "needs_background": "light"
     },
     "output_type": "display_data"
    }
   ],
   "source": [
    "# plot the results of loss values from the training set and validtion set\n",
    "history_dict = history.history\n",
    "loss_values = history_dict['loss']\n",
    "val_loss_values = history_dict['val_loss']\n",
    "\n",
    "epochs = range(1, len(history_dict['accuracy']) + 1)\n",
    "\n",
    "plt.figure(figsize=(10,6))\n",
    "plt.plot(epochs, loss_values, 'bo', label='Training loss')\n",
    "plt.plot(epochs, val_loss_values, 'b', label='Validation loss')\n",
    "plt.title('Training and validation loss')\n",
    "plt.xlabel('Epochs')\n",
    "plt.ylabel('Loss')\n",
    "plt.legend()\n",
    "plt.show()"
   ]
  },
  {
   "cell_type": "markdown",
   "metadata": {},
   "source": [
    "Now, we can plot the results of accuracy from the training and validation set."
   ]
  },
  {
   "cell_type": "code",
   "execution_count": 54,
   "metadata": {},
   "outputs": [
    {
     "data": {
      "image/png": "[encoded data removed]",
      "text/plain": [
       "<Figure size 432x288 with 1 Axes>"
      ]
     },
     "metadata": {
      "needs_background": "light"
     },
     "output_type": "display_data"
    }
   ],
   "source": [
    "# plot the results of accuracy from the training set and validtion set\n",
    "acc = history_dict['accuracy']\n",
    "val_acc = history_dict['val_accuracy']\n",
    "plt.plot(epochs, acc, 'bo', label='Training acc')\n",
    "plt.plot(epochs, val_acc, 'b', label='Validation acc')\n",
    "plt.title('Training and validation accuracy')\n",
    "plt.xlabel('Epochs')\n",
    "plt.ylabel('Accuracy')\n",
    "plt.legend()\n",
    "plt.show()"
   ]
  },
  {
   "cell_type": "markdown",
   "metadata": {},
   "source": [
    "This simple works well in our training set and validation set(with accuracy about 0.9).\n",
    "\n",
    "However, this model didn't perform well on our test set. When I used all the training data to train this model, the public score of this model is about 0.62. Why this happened? Well, I think the reason is about our imbalanced data, there are too many 0s in 'Target'. As a result, our model prefer to give us many 0s, which leads to our fail on testing dataset.\n",
    "\n",
    "Now, in order to deal with the issue of imbalanced dataset, I use a weighted model.\n",
    "\n",
    "## Calculate class_weights. "
   ]
  },
  {
   "cell_type": "code",
   "execution_count": 55,
   "metadata": {},
   "outputs": [],
   "source": [
    "# Calculate class weight\n",
    "NotOver50k, Over50k = np.bincount(train_data.Target)\n",
    "total_count = len(train_data.Target)\n",
    "\n",
    "weight_no_over50k = (1/NotOver50k)*(total_count)/2.0\n",
    "weight_over50k = (1/Over50k)*(total_count)/2.0\n",
    "\n",
    "class_weights = {0:weight_no_over50k, 1:weight_over50k}"
   ]
  },
  {
   "cell_type": "markdown",
   "metadata": {},
   "source": [
    "Now, we can use class_weights as an argument when we construct our second NN model.\n",
    "\n",
    "<mark>DL model draft:<mark>  \n",
    "    \n",
    "3 hidden layers in this model.\n",
    "\n",
    "The first hidden layer: 16 units with 'relu' activation function.\n",
    "\n",
    "The second hidden layer: 16 units with 'relu' activation function.\n",
    "\n",
    "The third hidden layer: 1 unit with 'sigmoid' activation function.\n",
    "    \n",
    "I choose the 'rmsprop' optimizer, 'binary_crossentropy' loss function, and the 'accuracy' metrics.\n",
    "    \n",
    "<mark>parameter initialization:<mark>\n",
    "    \n",
    "I use 200 epochs to train my model. The batch_size of my model is 512.\n",
    "\n",
    "<mark>parameter tuning:<mark>\n",
    "    \n",
    "Because I think this model did well in my training dataset, I didn't tune it's parameters."
   ]
  },
  {
   "cell_type": "markdown",
   "metadata": {},
   "source": [
    "Now, let's construct our second NN model."
   ]
  },
  {
   "cell_type": "code",
   "execution_count": 56,
   "metadata": {},
   "outputs": [
    {
     "name": "stdout",
     "output_type": "stream",
     "text": [
      "Train on 22014 samples, validate on 7500 samples\n",
      "Epoch 1/200\n",
      "22014/22014 [==============================] - 0s 15us/step - loss: 0.6409 - accuracy: 0.5171 - val_loss: 0.5960 - val_accuracy: 0.6753\n",
      "Epoch 2/200\n",
      "22014/22014 [==============================] - 0s 7us/step - loss: 0.5049 - accuracy: 0.7114 - val_loss: 0.5042 - val_accuracy: 0.7364\n",
      "Epoch 3/200\n",
      "22014/22014 [==============================] - 0s 8us/step - loss: 0.4457 - accuracy: 0.7482 - val_loss: 0.4606 - val_accuracy: 0.7547\n",
      "Epoch 4/200\n",
      "22014/22014 [==============================] - 0s 8us/step - loss: 0.4180 - accuracy: 0.7671 - val_loss: 0.4346 - val_accuracy: 0.7747\n",
      "Epoch 5/200\n",
      "22014/22014 [==============================] - 0s 8us/step - loss: 0.4036 - accuracy: 0.7815 - val_loss: 0.4226 - val_accuracy: 0.7791\n",
      "Epoch 6/200\n",
      "22014/22014 [==============================] - 0s 8us/step - loss: 0.3948 - accuracy: 0.7862 - val_loss: 0.4197 - val_accuracy: 0.7801\n",
      "Epoch 7/200\n",
      "22014/22014 [==============================] - 0s 7us/step - loss: 0.3886 - accuracy: 0.7882 - val_loss: 0.4132 - val_accuracy: 0.7829\n",
      "Epoch 8/200\n",
      "22014/22014 [==============================] - 0s 8us/step - loss: 0.3838 - accuracy: 0.7918 - val_loss: 0.4208 - val_accuracy: 0.7797\n",
      "Epoch 9/200\n",
      "22014/22014 [==============================] - 0s 7us/step - loss: 0.3801 - accuracy: 0.7924 - val_loss: 0.4123 - val_accuracy: 0.7825\n",
      "Epoch 10/200\n",
      "22014/22014 [==============================] - 0s 7us/step - loss: 0.3776 - accuracy: 0.7938 - val_loss: 0.4048 - val_accuracy: 0.7863\n",
      "Epoch 11/200\n",
      "22014/22014 [==============================] - 0s 8us/step - loss: 0.3754 - accuracy: 0.7928 - val_loss: 0.4042 - val_accuracy: 0.7857\n",
      "Epoch 12/200\n",
      "22014/22014 [==============================] - 0s 9us/step - loss: 0.3733 - accuracy: 0.7959 - val_loss: 0.4113 - val_accuracy: 0.7831\n",
      "Epoch 13/200\n",
      "22014/22014 [==============================] - 0s 7us/step - loss: 0.3710 - accuracy: 0.7944 - val_loss: 0.3816 - val_accuracy: 0.7996\n",
      "Epoch 14/200\n",
      "22014/22014 [==============================] - 0s 7us/step - loss: 0.3696 - accuracy: 0.7977 - val_loss: 0.3832 - val_accuracy: 0.7983\n",
      "Epoch 15/200\n",
      "22014/22014 [==============================] - 0s 7us/step - loss: 0.3683 - accuracy: 0.7983 - val_loss: 0.3919 - val_accuracy: 0.7951\n",
      "Epoch 16/200\n",
      "22014/22014 [==============================] - 0s 7us/step - loss: 0.3669 - accuracy: 0.7992 - val_loss: 0.3877 - val_accuracy: 0.7960\n",
      "Epoch 17/200\n",
      "22014/22014 [==============================] - 0s 7us/step - loss: 0.3662 - accuracy: 0.7998 - val_loss: 0.4050 - val_accuracy: 0.7849\n",
      "Epoch 18/200\n",
      "22014/22014 [==============================] - 0s 8us/step - loss: 0.3648 - accuracy: 0.7985 - val_loss: 0.4070 - val_accuracy: 0.7835\n",
      "Epoch 19/200\n",
      "22014/22014 [==============================] - 0s 8us/step - loss: 0.3639 - accuracy: 0.7984 - val_loss: 0.4076 - val_accuracy: 0.7836\n",
      "Epoch 20/200\n",
      "22014/22014 [==============================] - 0s 7us/step - loss: 0.3631 - accuracy: 0.7979 - val_loss: 0.3962 - val_accuracy: 0.7903\n",
      "Epoch 21/200\n",
      "22014/22014 [==============================] - 0s 9us/step - loss: 0.3622 - accuracy: 0.8003 - val_loss: 0.4008 - val_accuracy: 0.7848\n",
      "Epoch 22/200\n",
      "22014/22014 [==============================] - 0s 8us/step - loss: 0.3615 - accuracy: 0.7979 - val_loss: 0.3986 - val_accuracy: 0.7879\n",
      "Epoch 23/200\n",
      "22014/22014 [==============================] - 0s 7us/step - loss: 0.3607 - accuracy: 0.7984 - val_loss: 0.3835 - val_accuracy: 0.7964\n",
      "Epoch 24/200\n",
      "22014/22014 [==============================] - 0s 9us/step - loss: 0.3603 - accuracy: 0.7996 - val_loss: 0.3928 - val_accuracy: 0.7904\n",
      "Epoch 25/200\n",
      "22014/22014 [==============================] - 0s 8us/step - loss: 0.3592 - accuracy: 0.7987 - val_loss: 0.3873 - val_accuracy: 0.7957\n",
      "Epoch 26/200\n",
      "22014/22014 [==============================] - 0s 9us/step - loss: 0.3586 - accuracy: 0.8017 - val_loss: 0.3972 - val_accuracy: 0.7883\n",
      "Epoch 27/200\n",
      "22014/22014 [==============================] - 0s 11us/step - loss: 0.3580 - accuracy: 0.7996 - val_loss: 0.3968 - val_accuracy: 0.7884\n",
      "Epoch 28/200\n",
      "22014/22014 [==============================] - 0s 9us/step - loss: 0.3572 - accuracy: 0.8002 - val_loss: 0.3941 - val_accuracy: 0.7880\n",
      "Epoch 29/200\n",
      "22014/22014 [==============================] - 0s 10us/step - loss: 0.3569 - accuracy: 0.7991 - val_loss: 0.3858 - val_accuracy: 0.7932\n",
      "Epoch 30/200\n",
      "22014/22014 [==============================] - 0s 7us/step - loss: 0.3559 - accuracy: 0.8022 - val_loss: 0.4075 - val_accuracy: 0.7819\n",
      "Epoch 31/200\n",
      "22014/22014 [==============================] - 0s 7us/step - loss: 0.3554 - accuracy: 0.7999 - val_loss: 0.3904 - val_accuracy: 0.7899\n",
      "Epoch 32/200\n",
      "22014/22014 [==============================] - 0s 8us/step - loss: 0.3551 - accuracy: 0.7999 - val_loss: 0.3907 - val_accuracy: 0.7884\n",
      "Epoch 33/200\n",
      "22014/22014 [==============================] - 0s 9us/step - loss: 0.3540 - accuracy: 0.8023 - val_loss: 0.4006 - val_accuracy: 0.7824\n",
      "Epoch 34/200\n",
      "22014/22014 [==============================] - 0s 9us/step - loss: 0.3538 - accuracy: 0.7984 - val_loss: 0.3822 - val_accuracy: 0.7908\n",
      "Epoch 35/200\n",
      "22014/22014 [==============================] - 0s 8us/step - loss: 0.3530 - accuracy: 0.8019 - val_loss: 0.3939 - val_accuracy: 0.7859\n",
      "Epoch 36/200\n",
      "22014/22014 [==============================] - 0s 7us/step - loss: 0.3527 - accuracy: 0.7993 - val_loss: 0.3774 - val_accuracy: 0.7952\n",
      "Epoch 37/200\n",
      "22014/22014 [==============================] - 0s 7us/step - loss: 0.3526 - accuracy: 0.8009 - val_loss: 0.3832 - val_accuracy: 0.7924\n",
      "Epoch 38/200\n",
      "22014/22014 [==============================] - 0s 7us/step - loss: 0.3517 - accuracy: 0.7982 - val_loss: 0.3772 - val_accuracy: 0.7969\n",
      "Epoch 39/200\n",
      "22014/22014 [==============================] - 0s 7us/step - loss: 0.3513 - accuracy: 0.8020 - val_loss: 0.3859 - val_accuracy: 0.7907\n",
      "Epoch 40/200\n",
      "22014/22014 [==============================] - 0s 7us/step - loss: 0.3509 - accuracy: 0.8024 - val_loss: 0.3971 - val_accuracy: 0.7845\n",
      "Epoch 41/200\n",
      "22014/22014 [==============================] - 0s 7us/step - loss: 0.3504 - accuracy: 0.8007 - val_loss: 0.4022 - val_accuracy: 0.7792\n",
      "Epoch 42/200\n",
      "22014/22014 [==============================] - 0s 8us/step - loss: 0.3498 - accuracy: 0.7996 - val_loss: 0.3834 - val_accuracy: 0.7921\n",
      "Epoch 43/200\n",
      "22014/22014 [==============================] - 0s 7us/step - loss: 0.3494 - accuracy: 0.8014 - val_loss: 0.3788 - val_accuracy: 0.7941\n",
      "Epoch 44/200\n",
      "22014/22014 [==============================] - 0s 7us/step - loss: 0.3489 - accuracy: 0.8025 - val_loss: 0.3994 - val_accuracy: 0.7841\n",
      "Epoch 45/200\n",
      "22014/22014 [==============================] - 0s 7us/step - loss: 0.3488 - accuracy: 0.8021 - val_loss: 0.3942 - val_accuracy: 0.7861\n",
      "Epoch 46/200\n",
      "22014/22014 [==============================] - 0s 7us/step - loss: 0.3484 - accuracy: 0.8038 - val_loss: 0.3943 - val_accuracy: 0.7848\n",
      "Epoch 47/200\n",
      "22014/22014 [==============================] - 0s 7us/step - loss: 0.3479 - accuracy: 0.8023 - val_loss: 0.3966 - val_accuracy: 0.7851\n",
      "Epoch 48/200\n",
      "22014/22014 [==============================] - 0s 7us/step - loss: 0.3478 - accuracy: 0.8021 - val_loss: 0.3929 - val_accuracy: 0.7861\n",
      "Epoch 49/200\n",
      "22014/22014 [==============================] - 0s 7us/step - loss: 0.3473 - accuracy: 0.8017 - val_loss: 0.3980 - val_accuracy: 0.7825\n",
      "Epoch 50/200\n",
      "22014/22014 [==============================] - 0s 7us/step - loss: 0.3464 - accuracy: 0.8025 - val_loss: 0.4008 - val_accuracy: 0.7827\n",
      "Epoch 51/200\n",
      "22014/22014 [==============================] - 0s 8us/step - loss: 0.3468 - accuracy: 0.8032 - val_loss: 0.3921 - val_accuracy: 0.7871\n",
      "Epoch 52/200\n",
      "22014/22014 [==============================] - 0s 8us/step - loss: 0.3461 - accuracy: 0.8024 - val_loss: 0.3818 - val_accuracy: 0.7927\n",
      "Epoch 53/200\n",
      "22014/22014 [==============================] - 0s 7us/step - loss: 0.3461 - accuracy: 0.8032 - val_loss: 0.3952 - val_accuracy: 0.7841\n",
      "Epoch 54/200\n",
      "22014/22014 [==============================] - 0s 7us/step - loss: 0.3452 - accuracy: 0.8039 - val_loss: 0.3884 - val_accuracy: 0.7896\n",
      "Epoch 55/200\n",
      "22014/22014 [==============================] - 0s 7us/step - loss: 0.3448 - accuracy: 0.8049 - val_loss: 0.4001 - val_accuracy: 0.7823\n",
      "Epoch 56/200\n"
     ]
    },
    {
     "name": "stdout",
     "output_type": "stream",
     "text": [
      "22014/22014 [==============================] - 0s 7us/step - loss: 0.3444 - accuracy: 0.8049 - val_loss: 0.3915 - val_accuracy: 0.7896\n",
      "Epoch 57/200\n",
      "22014/22014 [==============================] - 0s 7us/step - loss: 0.3441 - accuracy: 0.8052 - val_loss: 0.3950 - val_accuracy: 0.7877\n",
      "Epoch 58/200\n",
      "22014/22014 [==============================] - 0s 7us/step - loss: 0.3435 - accuracy: 0.8039 - val_loss: 0.3826 - val_accuracy: 0.7939\n",
      "Epoch 59/200\n",
      "22014/22014 [==============================] - 0s 7us/step - loss: 0.3430 - accuracy: 0.8044 - val_loss: 0.3835 - val_accuracy: 0.7945\n",
      "Epoch 60/200\n",
      "22014/22014 [==============================] - 0s 7us/step - loss: 0.3427 - accuracy: 0.8036 - val_loss: 0.3764 - val_accuracy: 0.7993\n",
      "Epoch 61/200\n",
      "22014/22014 [==============================] - 0s 6us/step - loss: 0.3428 - accuracy: 0.8060 - val_loss: 0.3936 - val_accuracy: 0.7895\n",
      "Epoch 62/200\n",
      "22014/22014 [==============================] - 0s 7us/step - loss: 0.3421 - accuracy: 0.8050 - val_loss: 0.3894 - val_accuracy: 0.7931\n",
      "Epoch 63/200\n",
      "22014/22014 [==============================] - 0s 6us/step - loss: 0.3418 - accuracy: 0.8042 - val_loss: 0.3901 - val_accuracy: 0.7933\n",
      "Epoch 64/200\n",
      "22014/22014 [==============================] - 0s 6us/step - loss: 0.3410 - accuracy: 0.8051 - val_loss: 0.3865 - val_accuracy: 0.7947\n",
      "Epoch 65/200\n",
      "22014/22014 [==============================] - 0s 7us/step - loss: 0.3408 - accuracy: 0.8057 - val_loss: 0.3915 - val_accuracy: 0.7920\n",
      "Epoch 66/200\n",
      "22014/22014 [==============================] - 0s 7us/step - loss: 0.3406 - accuracy: 0.8058 - val_loss: 0.4043 - val_accuracy: 0.7849\n",
      "Epoch 67/200\n",
      "22014/22014 [==============================] - 0s 6us/step - loss: 0.3403 - accuracy: 0.8049 - val_loss: 0.3905 - val_accuracy: 0.7928\n",
      "Epoch 68/200\n",
      "22014/22014 [==============================] - 0s 7us/step - loss: 0.3399 - accuracy: 0.8047 - val_loss: 0.3803 - val_accuracy: 0.7979\n",
      "Epoch 69/200\n",
      "22014/22014 [==============================] - 0s 8us/step - loss: 0.3393 - accuracy: 0.8053 - val_loss: 0.3768 - val_accuracy: 0.8009\n",
      "Epoch 70/200\n",
      "22014/22014 [==============================] - 0s 7us/step - loss: 0.3394 - accuracy: 0.8069 - val_loss: 0.3861 - val_accuracy: 0.7948\n",
      "Epoch 71/200\n",
      "22014/22014 [==============================] - 0s 7us/step - loss: 0.3389 - accuracy: 0.8047 - val_loss: 0.3882 - val_accuracy: 0.7948\n",
      "Epoch 72/200\n",
      "22014/22014 [==============================] - 0s 7us/step - loss: 0.3385 - accuracy: 0.8058 - val_loss: 0.3814 - val_accuracy: 0.7993\n",
      "Epoch 73/200\n",
      "22014/22014 [==============================] - 0s 7us/step - loss: 0.3380 - accuracy: 0.8070 - val_loss: 0.3935 - val_accuracy: 0.7896\n",
      "Epoch 74/200\n",
      "22014/22014 [==============================] - 0s 7us/step - loss: 0.3378 - accuracy: 0.8069 - val_loss: 0.3907 - val_accuracy: 0.7944\n",
      "Epoch 75/200\n",
      "22014/22014 [==============================] - 0s 7us/step - loss: 0.3377 - accuracy: 0.8081 - val_loss: 0.3916 - val_accuracy: 0.7904\n",
      "Epoch 76/200\n",
      "22014/22014 [==============================] - 0s 8us/step - loss: 0.3373 - accuracy: 0.8059 - val_loss: 0.3839 - val_accuracy: 0.7976\n",
      "Epoch 77/200\n",
      "22014/22014 [==============================] - 0s 8us/step - loss: 0.3369 - accuracy: 0.8073 - val_loss: 0.3927 - val_accuracy: 0.7933\n",
      "Epoch 78/200\n",
      "22014/22014 [==============================] - 0s 7us/step - loss: 0.3367 - accuracy: 0.8065 - val_loss: 0.3879 - val_accuracy: 0.7945\n",
      "Epoch 79/200\n",
      "22014/22014 [==============================] - 0s 7us/step - loss: 0.3361 - accuracy: 0.8074 - val_loss: 0.3748 - val_accuracy: 0.8021\n",
      "Epoch 80/200\n",
      "22014/22014 [==============================] - 0s 8us/step - loss: 0.3357 - accuracy: 0.8073 - val_loss: 0.3649 - val_accuracy: 0.8052\n",
      "Epoch 81/200\n",
      "22014/22014 [==============================] - 0s 8us/step - loss: 0.3357 - accuracy: 0.8087 - val_loss: 0.3914 - val_accuracy: 0.7923\n",
      "Epoch 82/200\n",
      "22014/22014 [==============================] - 0s 6us/step - loss: 0.3351 - accuracy: 0.8095 - val_loss: 0.3894 - val_accuracy: 0.7928\n",
      "Epoch 83/200\n",
      "22014/22014 [==============================] - 0s 7us/step - loss: 0.3352 - accuracy: 0.8076 - val_loss: 0.3956 - val_accuracy: 0.7893\n",
      "Epoch 84/200\n",
      "22014/22014 [==============================] - 0s 13us/step - loss: 0.3346 - accuracy: 0.8077 - val_loss: 0.3935 - val_accuracy: 0.7905\n",
      "Epoch 85/200\n",
      "22014/22014 [==============================] - 0s 8us/step - loss: 0.3343 - accuracy: 0.8084 - val_loss: 0.3872 - val_accuracy: 0.7940\n",
      "Epoch 86/200\n",
      "22014/22014 [==============================] - 0s 12us/step - loss: 0.3337 - accuracy: 0.8098 - val_loss: 0.4031 - val_accuracy: 0.7847\n",
      "Epoch 87/200\n",
      "22014/22014 [==============================] - 0s 11us/step - loss: 0.3335 - accuracy: 0.8081 - val_loss: 0.3731 - val_accuracy: 0.8045\n",
      "Epoch 88/200\n",
      "22014/22014 [==============================] - 0s 9us/step - loss: 0.3333 - accuracy: 0.8110 - val_loss: 0.3906 - val_accuracy: 0.7925\n",
      "Epoch 89/200\n",
      "22014/22014 [==============================] - 0s 11us/step - loss: 0.3327 - accuracy: 0.8107 - val_loss: 0.3908 - val_accuracy: 0.7932\n",
      "Epoch 90/200\n",
      "22014/22014 [==============================] - 0s 7us/step - loss: 0.3326 - accuracy: 0.8108 - val_loss: 0.4049 - val_accuracy: 0.7837\n",
      "Epoch 91/200\n",
      "22014/22014 [==============================] - 0s 7us/step - loss: 0.3323 - accuracy: 0.8104 - val_loss: 0.3949 - val_accuracy: 0.7887\n",
      "Epoch 92/200\n",
      "22014/22014 [==============================] - 0s 9us/step - loss: 0.3323 - accuracy: 0.8091 - val_loss: 0.3889 - val_accuracy: 0.7923\n",
      "Epoch 93/200\n",
      "22014/22014 [==============================] - 0s 7us/step - loss: 0.3319 - accuracy: 0.8082 - val_loss: 0.3832 - val_accuracy: 0.7987\n",
      "Epoch 94/200\n",
      "22014/22014 [==============================] - 0s 7us/step - loss: 0.3314 - accuracy: 0.8102 - val_loss: 0.3798 - val_accuracy: 0.8004\n",
      "Epoch 95/200\n",
      "22014/22014 [==============================] - 0s 7us/step - loss: 0.3311 - accuracy: 0.8105 - val_loss: 0.3868 - val_accuracy: 0.7975\n",
      "Epoch 96/200\n",
      "22014/22014 [==============================] - 0s 8us/step - loss: 0.3308 - accuracy: 0.8127 - val_loss: 0.4011 - val_accuracy: 0.7876\n",
      "Epoch 97/200\n",
      "22014/22014 [==============================] - 0s 7us/step - loss: 0.3306 - accuracy: 0.8117 - val_loss: 0.3964 - val_accuracy: 0.7888\n",
      "Epoch 98/200\n",
      "22014/22014 [==============================] - 0s 6us/step - loss: 0.3302 - accuracy: 0.8100 - val_loss: 0.4026 - val_accuracy: 0.7864\n",
      "Epoch 99/200\n",
      "22014/22014 [==============================] - 0s 7us/step - loss: 0.3302 - accuracy: 0.8116 - val_loss: 0.4051 - val_accuracy: 0.7824\n",
      "Epoch 100/200\n",
      "22014/22014 [==============================] - 0s 6us/step - loss: 0.3297 - accuracy: 0.8100 - val_loss: 0.3863 - val_accuracy: 0.7967\n",
      "Epoch 101/200\n",
      "22014/22014 [==============================] - 0s 7us/step - loss: 0.3293 - accuracy: 0.8098 - val_loss: 0.3698 - val_accuracy: 0.8084\n",
      "Epoch 102/200\n",
      "22014/22014 [==============================] - 0s 6us/step - loss: 0.3291 - accuracy: 0.8123 - val_loss: 0.3718 - val_accuracy: 0.8059\n",
      "Epoch 103/200\n",
      "22014/22014 [==============================] - 0s 6us/step - loss: 0.3290 - accuracy: 0.8136 - val_loss: 0.3821 - val_accuracy: 0.8016\n",
      "Epoch 104/200\n",
      "22014/22014 [==============================] - 0s 7us/step - loss: 0.3284 - accuracy: 0.8131 - val_loss: 0.3834 - val_accuracy: 0.7981\n",
      "Epoch 105/200\n",
      "22014/22014 [==============================] - 0s 6us/step - loss: 0.3281 - accuracy: 0.8133 - val_loss: 0.3817 - val_accuracy: 0.8009\n",
      "Epoch 106/200\n",
      "22014/22014 [==============================] - 0s 7us/step - loss: 0.3280 - accuracy: 0.8138 - val_loss: 0.3877 - val_accuracy: 0.7956\n",
      "Epoch 107/200\n",
      "22014/22014 [==============================] - 0s 6us/step - loss: 0.3276 - accuracy: 0.8119 - val_loss: 0.3863 - val_accuracy: 0.7967\n",
      "Epoch 108/200\n",
      "22014/22014 [==============================] - 0s 6us/step - loss: 0.3275 - accuracy: 0.8139 - val_loss: 0.3932 - val_accuracy: 0.7940\n",
      "Epoch 109/200\n",
      "22014/22014 [==============================] - 0s 6us/step - loss: 0.3273 - accuracy: 0.8126 - val_loss: 0.3832 - val_accuracy: 0.7975\n",
      "Epoch 110/200\n",
      "22014/22014 [==============================] - 0s 7us/step - loss: 0.3267 - accuracy: 0.8115 - val_loss: 0.3833 - val_accuracy: 0.8003\n",
      "Epoch 111/200\n"
     ]
    },
    {
     "name": "stdout",
     "output_type": "stream",
     "text": [
      "22014/22014 [==============================] - 0s 7us/step - loss: 0.3269 - accuracy: 0.8144 - val_loss: 0.3902 - val_accuracy: 0.7947\n",
      "Epoch 112/200\n",
      "22014/22014 [==============================] - 0s 8us/step - loss: 0.3264 - accuracy: 0.8133 - val_loss: 0.3876 - val_accuracy: 0.7967\n",
      "Epoch 113/200\n",
      "22014/22014 [==============================] - 0s 8us/step - loss: 0.3263 - accuracy: 0.8130 - val_loss: 0.3729 - val_accuracy: 0.8051\n",
      "Epoch 114/200\n",
      "22014/22014 [==============================] - 0s 7us/step - loss: 0.3258 - accuracy: 0.8153 - val_loss: 0.3829 - val_accuracy: 0.7971\n",
      "Epoch 115/200\n",
      "22014/22014 [==============================] - 0s 6us/step - loss: 0.3258 - accuracy: 0.8144 - val_loss: 0.3930 - val_accuracy: 0.7931\n",
      "Epoch 116/200\n",
      "22014/22014 [==============================] - 0s 7us/step - loss: 0.3258 - accuracy: 0.8150 - val_loss: 0.3951 - val_accuracy: 0.7911\n",
      "Epoch 117/200\n",
      "22014/22014 [==============================] - 0s 8us/step - loss: 0.3256 - accuracy: 0.8133 - val_loss: 0.3826 - val_accuracy: 0.8009\n",
      "Epoch 118/200\n",
      "22014/22014 [==============================] - 0s 9us/step - loss: 0.3252 - accuracy: 0.8133 - val_loss: 0.3807 - val_accuracy: 0.8003\n",
      "Epoch 119/200\n",
      "22014/22014 [==============================] - 0s 7us/step - loss: 0.3246 - accuracy: 0.8148 - val_loss: 0.3921 - val_accuracy: 0.7927\n",
      "Epoch 120/200\n",
      "22014/22014 [==============================] - 0s 7us/step - loss: 0.3248 - accuracy: 0.8131 - val_loss: 0.3827 - val_accuracy: 0.7996\n",
      "Epoch 121/200\n",
      "22014/22014 [==============================] - 0s 6us/step - loss: 0.3242 - accuracy: 0.8166 - val_loss: 0.4027 - val_accuracy: 0.7856\n",
      "Epoch 122/200\n",
      "22014/22014 [==============================] - 0s 6us/step - loss: 0.3237 - accuracy: 0.8134 - val_loss: 0.3854 - val_accuracy: 0.7951\n",
      "Epoch 123/200\n",
      "22014/22014 [==============================] - 0s 7us/step - loss: 0.3239 - accuracy: 0.8140 - val_loss: 0.3971 - val_accuracy: 0.7889\n",
      "Epoch 124/200\n",
      "22014/22014 [==============================] - 0s 6us/step - loss: 0.3235 - accuracy: 0.8132 - val_loss: 0.3811 - val_accuracy: 0.7995\n",
      "Epoch 125/200\n",
      "22014/22014 [==============================] - 0s 6us/step - loss: 0.3234 - accuracy: 0.8155 - val_loss: 0.3998 - val_accuracy: 0.7885\n",
      "Epoch 126/200\n",
      "22014/22014 [==============================] - 0s 6us/step - loss: 0.3233 - accuracy: 0.8141 - val_loss: 0.3987 - val_accuracy: 0.7885\n",
      "Epoch 127/200\n",
      "22014/22014 [==============================] - 0s 6us/step - loss: 0.3226 - accuracy: 0.8138 - val_loss: 0.3961 - val_accuracy: 0.7932\n",
      "Epoch 128/200\n",
      "22014/22014 [==============================] - 0s 7us/step - loss: 0.3227 - accuracy: 0.8142 - val_loss: 0.3777 - val_accuracy: 0.8007\n",
      "Epoch 129/200\n",
      "22014/22014 [==============================] - 0s 6us/step - loss: 0.3221 - accuracy: 0.8151 - val_loss: 0.3854 - val_accuracy: 0.7979\n",
      "Epoch 130/200\n",
      "22014/22014 [==============================] - 0s 6us/step - loss: 0.3223 - accuracy: 0.8156 - val_loss: 0.3917 - val_accuracy: 0.7952\n",
      "Epoch 131/200\n",
      "22014/22014 [==============================] - 0s 6us/step - loss: 0.3219 - accuracy: 0.8145 - val_loss: 0.3959 - val_accuracy: 0.7925\n",
      "Epoch 132/200\n",
      "22014/22014 [==============================] - 0s 7us/step - loss: 0.3219 - accuracy: 0.8151 - val_loss: 0.3916 - val_accuracy: 0.7945\n",
      "Epoch 133/200\n",
      "22014/22014 [==============================] - 0s 6us/step - loss: 0.3213 - accuracy: 0.8156 - val_loss: 0.3840 - val_accuracy: 0.8000\n",
      "Epoch 134/200\n",
      "22014/22014 [==============================] - 0s 6us/step - loss: 0.3215 - accuracy: 0.8175 - val_loss: 0.3957 - val_accuracy: 0.7925\n",
      "Epoch 135/200\n",
      "22014/22014 [==============================] - 0s 6us/step - loss: 0.3212 - accuracy: 0.8156 - val_loss: 0.3881 - val_accuracy: 0.7984\n",
      "Epoch 136/200\n",
      "22014/22014 [==============================] - 0s 7us/step - loss: 0.3209 - accuracy: 0.8145 - val_loss: 0.3854 - val_accuracy: 0.8008\n",
      "Epoch 137/200\n",
      "22014/22014 [==============================] - 0s 7us/step - loss: 0.3209 - accuracy: 0.8157 - val_loss: 0.3868 - val_accuracy: 0.7999\n",
      "Epoch 138/200\n",
      "22014/22014 [==============================] - 0s 7us/step - loss: 0.3203 - accuracy: 0.8163 - val_loss: 0.3838 - val_accuracy: 0.8017\n",
      "Epoch 139/200\n",
      "22014/22014 [==============================] - 0s 7us/step - loss: 0.3206 - accuracy: 0.8161 - val_loss: 0.3800 - val_accuracy: 0.8016\n",
      "Epoch 140/200\n",
      "22014/22014 [==============================] - 0s 7us/step - loss: 0.3200 - accuracy: 0.8162 - val_loss: 0.4030 - val_accuracy: 0.7875\n",
      "Epoch 141/200\n",
      "22014/22014 [==============================] - 0s 7us/step - loss: 0.3196 - accuracy: 0.8165 - val_loss: 0.3911 - val_accuracy: 0.7951\n",
      "Epoch 142/200\n",
      "22014/22014 [==============================] - 0s 7us/step - loss: 0.3194 - accuracy: 0.8160 - val_loss: 0.3913 - val_accuracy: 0.7956\n",
      "Epoch 143/200\n",
      "22014/22014 [==============================] - 0s 7us/step - loss: 0.3193 - accuracy: 0.8161 - val_loss: 0.3911 - val_accuracy: 0.7979\n",
      "Epoch 144/200\n",
      "22014/22014 [==============================] - 0s 9us/step - loss: 0.3190 - accuracy: 0.8187 - val_loss: 0.4057 - val_accuracy: 0.7847\n",
      "Epoch 145/200\n",
      "22014/22014 [==============================] - 0s 13us/step - loss: 0.3189 - accuracy: 0.8165 - val_loss: 0.3873 - val_accuracy: 0.7988\n",
      "Epoch 146/200\n",
      "22014/22014 [==============================] - 0s 8us/step - loss: 0.3189 - accuracy: 0.8175 - val_loss: 0.3969 - val_accuracy: 0.7941\n",
      "Epoch 147/200\n",
      "22014/22014 [==============================] - 0s 7us/step - loss: 0.3182 - accuracy: 0.8178 - val_loss: 0.4091 - val_accuracy: 0.7829\n",
      "Epoch 148/200\n",
      "22014/22014 [==============================] - 0s 7us/step - loss: 0.3185 - accuracy: 0.8167 - val_loss: 0.3942 - val_accuracy: 0.7952\n",
      "Epoch 149/200\n",
      "22014/22014 [==============================] - 0s 10us/step - loss: 0.3181 - accuracy: 0.8184 - val_loss: 0.3806 - val_accuracy: 0.8024\n",
      "Epoch 150/200\n",
      "22014/22014 [==============================] - 0s 8us/step - loss: 0.3179 - accuracy: 0.8175 - val_loss: 0.3844 - val_accuracy: 0.8021\n",
      "Epoch 151/200\n",
      "22014/22014 [==============================] - 0s 7us/step - loss: 0.3178 - accuracy: 0.8168 - val_loss: 0.3839 - val_accuracy: 0.8037\n",
      "Epoch 152/200\n",
      "22014/22014 [==============================] - 0s 8us/step - loss: 0.3173 - accuracy: 0.8192 - val_loss: 0.3849 - val_accuracy: 0.8049\n",
      "Epoch 153/200\n",
      "22014/22014 [==============================] - 0s 7us/step - loss: 0.3174 - accuracy: 0.8162 - val_loss: 0.3752 - val_accuracy: 0.8079\n",
      "Epoch 154/200\n",
      "22014/22014 [==============================] - 0s 7us/step - loss: 0.3174 - accuracy: 0.8203 - val_loss: 0.3904 - val_accuracy: 0.7992\n",
      "Epoch 155/200\n",
      "22014/22014 [==============================] - 0s 7us/step - loss: 0.3172 - accuracy: 0.8187 - val_loss: 0.3948 - val_accuracy: 0.7945\n",
      "Epoch 156/200\n",
      "22014/22014 [==============================] - 0s 7us/step - loss: 0.3166 - accuracy: 0.8185 - val_loss: 0.3866 - val_accuracy: 0.8011\n",
      "Epoch 157/200\n",
      "22014/22014 [==============================] - 0s 7us/step - loss: 0.3168 - accuracy: 0.8179 - val_loss: 0.3889 - val_accuracy: 0.8007\n",
      "Epoch 158/200\n",
      "22014/22014 [==============================] - 0s 7us/step - loss: 0.3164 - accuracy: 0.8198 - val_loss: 0.3941 - val_accuracy: 0.7939\n",
      "Epoch 159/200\n",
      "22014/22014 [==============================] - 0s 7us/step - loss: 0.3166 - accuracy: 0.8175 - val_loss: 0.3835 - val_accuracy: 0.8032\n",
      "Epoch 160/200\n",
      "22014/22014 [==============================] - 0s 10us/step - loss: 0.3158 - accuracy: 0.8205 - val_loss: 0.4037 - val_accuracy: 0.7945\n",
      "Epoch 161/200\n",
      "22014/22014 [==============================] - 0s 8us/step - loss: 0.3159 - accuracy: 0.8219 - val_loss: 0.4078 - val_accuracy: 0.7901\n",
      "Epoch 162/200\n",
      "22014/22014 [==============================] - 0s 7us/step - loss: 0.3157 - accuracy: 0.8215 - val_loss: 0.4069 - val_accuracy: 0.7883\n",
      "Epoch 163/200\n",
      "22014/22014 [==============================] - 0s 7us/step - loss: 0.3156 - accuracy: 0.8203 - val_loss: 0.3952 - val_accuracy: 0.7957\n",
      "Epoch 164/200\n",
      "22014/22014 [==============================] - 0s 7us/step - loss: 0.3151 - accuracy: 0.8212 - val_loss: 0.4048 - val_accuracy: 0.7933\n",
      "Epoch 165/200\n",
      "22014/22014 [==============================] - 0s 7us/step - loss: 0.3151 - accuracy: 0.8192 - val_loss: 0.4021 - val_accuracy: 0.7947\n",
      "Epoch 166/200\n"
     ]
    },
    {
     "name": "stdout",
     "output_type": "stream",
     "text": [
      "22014/22014 [==============================] - 0s 7us/step - loss: 0.3150 - accuracy: 0.8190 - val_loss: 0.3938 - val_accuracy: 0.8008\n",
      "Epoch 167/200\n",
      "22014/22014 [==============================] - 0s 7us/step - loss: 0.3150 - accuracy: 0.8198 - val_loss: 0.3832 - val_accuracy: 0.8048\n",
      "Epoch 168/200\n",
      "22014/22014 [==============================] - 0s 7us/step - loss: 0.3148 - accuracy: 0.8199 - val_loss: 0.3891 - val_accuracy: 0.8039\n",
      "Epoch 169/200\n",
      "22014/22014 [==============================] - 0s 7us/step - loss: 0.3145 - accuracy: 0.8219 - val_loss: 0.3951 - val_accuracy: 0.7984\n",
      "Epoch 170/200\n",
      "22014/22014 [==============================] - 0s 8us/step - loss: 0.3142 - accuracy: 0.8227 - val_loss: 0.3849 - val_accuracy: 0.8055\n",
      "Epoch 171/200\n",
      "22014/22014 [==============================] - 0s 6us/step - loss: 0.3144 - accuracy: 0.8209 - val_loss: 0.3902 - val_accuracy: 0.8000\n",
      "Epoch 172/200\n",
      "22014/22014 [==============================] - 0s 7us/step - loss: 0.3139 - accuracy: 0.8219 - val_loss: 0.3902 - val_accuracy: 0.8021\n",
      "Epoch 173/200\n",
      "22014/22014 [==============================] - 0s 7us/step - loss: 0.3137 - accuracy: 0.8227 - val_loss: 0.3920 - val_accuracy: 0.8012\n",
      "Epoch 174/200\n",
      "22014/22014 [==============================] - 0s 7us/step - loss: 0.3137 - accuracy: 0.8216 - val_loss: 0.3795 - val_accuracy: 0.8085\n",
      "Epoch 175/200\n",
      "22014/22014 [==============================] - 0s 8us/step - loss: 0.3136 - accuracy: 0.8220 - val_loss: 0.4107 - val_accuracy: 0.7896\n",
      "Epoch 176/200\n",
      "22014/22014 [==============================] - 0s 6us/step - loss: 0.3134 - accuracy: 0.8202 - val_loss: 0.3857 - val_accuracy: 0.8060\n",
      "Epoch 177/200\n",
      "22014/22014 [==============================] - 0s 6us/step - loss: 0.3134 - accuracy: 0.8228 - val_loss: 0.3951 - val_accuracy: 0.7979\n",
      "Epoch 178/200\n",
      "22014/22014 [==============================] - 0s 7us/step - loss: 0.3132 - accuracy: 0.8226 - val_loss: 0.4119 - val_accuracy: 0.7897\n",
      "Epoch 179/200\n",
      "22014/22014 [==============================] - 0s 7us/step - loss: 0.3126 - accuracy: 0.8197 - val_loss: 0.3791 - val_accuracy: 0.8087\n",
      "Epoch 180/200\n",
      "22014/22014 [==============================] - 0s 7us/step - loss: 0.3124 - accuracy: 0.8213 - val_loss: 0.3790 - val_accuracy: 0.8104\n",
      "Epoch 181/200\n",
      "22014/22014 [==============================] - 0s 7us/step - loss: 0.3126 - accuracy: 0.8218 - val_loss: 0.3839 - val_accuracy: 0.8073\n",
      "Epoch 182/200\n",
      "22014/22014 [==============================] - 0s 7us/step - loss: 0.3123 - accuracy: 0.8226 - val_loss: 0.3927 - val_accuracy: 0.8037\n",
      "Epoch 183/200\n",
      "22014/22014 [==============================] - 0s 7us/step - loss: 0.3122 - accuracy: 0.8214 - val_loss: 0.3937 - val_accuracy: 0.8021\n",
      "Epoch 184/200\n",
      "22014/22014 [==============================] - 0s 7us/step - loss: 0.3120 - accuracy: 0.8230 - val_loss: 0.4118 - val_accuracy: 0.7873\n",
      "Epoch 185/200\n",
      "22014/22014 [==============================] - 0s 7us/step - loss: 0.3118 - accuracy: 0.8211 - val_loss: 0.3981 - val_accuracy: 0.7988\n",
      "Epoch 186/200\n",
      "22014/22014 [==============================] - 0s 7us/step - loss: 0.3116 - accuracy: 0.8200 - val_loss: 0.3600 - val_accuracy: 0.8200\n",
      "Epoch 187/200\n",
      "22014/22014 [==============================] - 0s 7us/step - loss: 0.3115 - accuracy: 0.8241 - val_loss: 0.3934 - val_accuracy: 0.8044\n",
      "Epoch 188/200\n",
      "22014/22014 [==============================] - 0s 7us/step - loss: 0.3112 - accuracy: 0.8228 - val_loss: 0.3932 - val_accuracy: 0.8036\n",
      "Epoch 189/200\n",
      "22014/22014 [==============================] - 0s 7us/step - loss: 0.3110 - accuracy: 0.8234 - val_loss: 0.4008 - val_accuracy: 0.7952\n",
      "Epoch 190/200\n",
      "22014/22014 [==============================] - 0s 7us/step - loss: 0.3110 - accuracy: 0.8226 - val_loss: 0.4004 - val_accuracy: 0.7981\n",
      "Epoch 191/200\n",
      "22014/22014 [==============================] - 0s 7us/step - loss: 0.3108 - accuracy: 0.8214 - val_loss: 0.3884 - val_accuracy: 0.8048\n",
      "Epoch 192/200\n",
      "22014/22014 [==============================] - 0s 7us/step - loss: 0.3107 - accuracy: 0.8234 - val_loss: 0.3867 - val_accuracy: 0.8059\n",
      "Epoch 193/200\n",
      "22014/22014 [==============================] - 0s 7us/step - loss: 0.3108 - accuracy: 0.8223 - val_loss: 0.3875 - val_accuracy: 0.8073\n",
      "Epoch 194/200\n",
      "22014/22014 [==============================] - 0s 6us/step - loss: 0.3104 - accuracy: 0.8229 - val_loss: 0.3812 - val_accuracy: 0.8101\n",
      "Epoch 195/200\n",
      "22014/22014 [==============================] - 0s 14us/step - loss: 0.3101 - accuracy: 0.8241 - val_loss: 0.4031 - val_accuracy: 0.7985\n",
      "Epoch 196/200\n",
      "22014/22014 [==============================] - 0s 8us/step - loss: 0.3101 - accuracy: 0.8228 - val_loss: 0.3827 - val_accuracy: 0.8092\n",
      "Epoch 197/200\n",
      "22014/22014 [==============================] - 0s 11us/step - loss: 0.3099 - accuracy: 0.8227 - val_loss: 0.3853 - val_accuracy: 0.8061\n",
      "Epoch 198/200\n",
      "22014/22014 [==============================] - 0s 13us/step - loss: 0.3100 - accuracy: 0.8247 - val_loss: 0.3859 - val_accuracy: 0.8055\n",
      "Epoch 199/200\n",
      "22014/22014 [==============================] - 0s 9us/step - loss: 0.3097 - accuracy: 0.8229 - val_loss: 0.3849 - val_accuracy: 0.8072\n",
      "Epoch 200/200\n",
      "22014/22014 [==============================] - 0s 16us/step - loss: 0.3097 - accuracy: 0.8239 - val_loss: 0.3956 - val_accuracy: 0.8007\n"
     ]
    }
   ],
   "source": [
    "# Use weighted model!\n",
    "model = models.Sequential()\n",
    "model.add(layers.Dense(16, activation='relu'))\n",
    "model.add(layers.Dense(16, activation='relu'))\n",
    "model.add(layers.Dense(1, activation='sigmoid'))\n",
    "\n",
    "model.compile(optimizer='rmsprop',\n",
    "              loss='binary_crossentropy',\n",
    "              metrics=['accuracy'])\n",
    "\n",
    "history = model.fit(partial_X_train,\n",
    "                    partial_y_train,\n",
    "                    epochs=200,\n",
    "                    batch_size=512,\n",
    "                    validation_data=(X_valid, y_valid),\n",
    "                    class_weight=class_weights)"
   ]
  },
  {
   "cell_type": "markdown",
   "metadata": {},
   "source": [
    "After constructing our weighted model, we can plot the results of loss values from the training and validation set."
   ]
  },
  {
   "cell_type": "code",
   "execution_count": 57,
   "metadata": {},
   "outputs": [
    {
     "data": {
      "image/png": "[encoded data removed]",
      "text/plain": [
       "<Figure size 432x288 with 1 Axes>"
      ]
     },
     "metadata": {
      "needs_background": "light"
     },
     "output_type": "display_data"
    }
   ],
   "source": [
    "# plot the results of loss values from the training set and validtion set\n",
    "history_dict = history.history\n",
    "loss_values = history_dict['loss']\n",
    "val_loss_values = history_dict['val_loss']\n",
    "\n",
    "epochs = range(1, len(history_dict['accuracy']) + 1)\n",
    "\n",
    "plt.plot(epochs, loss_values, 'bo', label='Training loss')\n",
    "plt.plot(epochs, val_loss_values, 'b', label='Validation loss')\n",
    "plt.title('Training and validation loss')\n",
    "plt.xlabel('Epochs')\n",
    "plt.ylabel('Loss')\n",
    "plt.legend()\n",
    "plt.show()"
   ]
  },
  {
   "cell_type": "markdown",
   "metadata": {},
   "source": [
    "Also, we can plot the results of accuracy from the training and validation set."
   ]
  },
  {
   "cell_type": "code",
   "execution_count": 58,
   "metadata": {},
   "outputs": [
    {
     "data": {
      "image/png": "[encoded data removed]",
      "text/plain": [
       "<Figure size 432x288 with 1 Axes>"
      ]
     },
     "metadata": {
      "needs_background": "light"
     },
     "output_type": "display_data"
    }
   ],
   "source": [
    "#plt.clf()\n",
    "acc = history_dict['accuracy']\n",
    "val_acc = history_dict['val_accuracy']\n",
    "plt.plot(epochs, acc, 'bo', label='Training acc')\n",
    "plt.plot(epochs, val_acc, 'b', label='Validation acc')\n",
    "plt.title('Training and validation accuracy')\n",
    "plt.xlabel('Epochs')\n",
    "plt.ylabel('Accuracy')\n",
    "plt.legend()\n",
    "plt.show()"
   ]
  },
  {
   "cell_type": "markdown",
   "metadata": {},
   "source": [
    "When I used all the training data to train this model, the public score of this model is about 0.83 (the private score is also about 0.82). By using weighted model, we successfully overcome the problem of imbalanced training dataset."
   ]
  },
  {
   "cell_type": "markdown",
   "metadata": {},
   "source": [
    "Now, I can use all the training data to train this model."
   ]
  },
  {
   "cell_type": "code",
   "execution_count": 59,
   "metadata": {},
   "outputs": [
    {
     "name": "stdout",
     "output_type": "stream",
     "text": [
      "Epoch 1/200\n",
      "29514/29514 [==============================] - 0s 10us/step - loss: 0.5889 - accuracy: 0.6675\n",
      "Epoch 2/200\n",
      "29514/29514 [==============================] - 0s 7us/step - loss: 0.4631 - accuracy: 0.7317\n",
      "Epoch 3/200\n",
      "29514/29514 [==============================] - 0s 7us/step - loss: 0.4209 - accuracy: 0.7627\n",
      "Epoch 4/200\n",
      "29514/29514 [==============================] - 0s 7us/step - loss: 0.4042 - accuracy: 0.7757\n",
      "Epoch 5/200\n",
      "29514/29514 [==============================] - 0s 6us/step - loss: 0.3952 - accuracy: 0.7804\n",
      "Epoch 6/200\n",
      "29514/29514 [==============================] - 0s 6us/step - loss: 0.3884 - accuracy: 0.7833\n",
      "Epoch 7/200\n",
      "29514/29514 [==============================] - 0s 6us/step - loss: 0.3842 - accuracy: 0.7871\n",
      "Epoch 8/200\n",
      "29514/29514 [==============================] - 0s 6us/step - loss: 0.3806 - accuracy: 0.7866\n",
      "Epoch 9/200\n",
      "29514/29514 [==============================] - 0s 6us/step - loss: 0.3776 - accuracy: 0.7869\n",
      "Epoch 10/200\n",
      "29514/29514 [==============================] - 0s 8us/step - loss: 0.3754 - accuracy: 0.7924\n",
      "Epoch 11/200\n",
      "29514/29514 [==============================] - 0s 6us/step - loss: 0.3733 - accuracy: 0.7907\n",
      "Epoch 12/200\n",
      "29514/29514 [==============================] - 0s 7us/step - loss: 0.3720 - accuracy: 0.7913\n",
      "Epoch 13/200\n",
      "29514/29514 [==============================] - 0s 7us/step - loss: 0.3707 - accuracy: 0.7940\n",
      "Epoch 14/200\n",
      "29514/29514 [==============================] - 0s 6us/step - loss: 0.3695 - accuracy: 0.7941\n",
      "Epoch 15/200\n",
      "29514/29514 [==============================] - 0s 6us/step - loss: 0.3683 - accuracy: 0.7941\n",
      "Epoch 16/200\n",
      "29514/29514 [==============================] - 0s 6us/step - loss: 0.3677 - accuracy: 0.7966\n",
      "Epoch 17/200\n",
      "29514/29514 [==============================] - 0s 7us/step - loss: 0.3670 - accuracy: 0.7956\n",
      "Epoch 18/200\n",
      "29514/29514 [==============================] - 0s 6us/step - loss: 0.3660 - accuracy: 0.7971\n",
      "Epoch 19/200\n",
      "29514/29514 [==============================] - 0s 6us/step - loss: 0.3654 - accuracy: 0.7978\n",
      "Epoch 20/200\n",
      "29514/29514 [==============================] - 0s 6us/step - loss: 0.3648 - accuracy: 0.7948\n",
      "Epoch 21/200\n",
      "29514/29514 [==============================] - 0s 6us/step - loss: 0.3643 - accuracy: 0.7967\n",
      "Epoch 22/200\n",
      "29514/29514 [==============================] - 0s 6us/step - loss: 0.3636 - accuracy: 0.7959\n",
      "Epoch 23/200\n",
      "29514/29514 [==============================] - 0s 7us/step - loss: 0.3631 - accuracy: 0.7968\n",
      "Epoch 24/200\n",
      "29514/29514 [==============================] - 0s 7us/step - loss: 0.3626 - accuracy: 0.7961\n",
      "Epoch 25/200\n",
      "29514/29514 [==============================] - 0s 6us/step - loss: 0.3623 - accuracy: 0.7964\n",
      "Epoch 26/200\n",
      "29514/29514 [==============================] - 0s 10us/step - loss: 0.3616 - accuracy: 0.7974\n",
      "Epoch 27/200\n",
      "29514/29514 [==============================] - 0s 7us/step - loss: 0.3612 - accuracy: 0.7996\n",
      "Epoch 28/200\n",
      "29514/29514 [==============================] - 0s 9us/step - loss: 0.3611 - accuracy: 0.7955\n",
      "Epoch 29/200\n",
      "29514/29514 [==============================] - 0s 6us/step - loss: 0.3603 - accuracy: 0.7982\n",
      "Epoch 30/200\n",
      "29514/29514 [==============================] - 0s 6us/step - loss: 0.3600 - accuracy: 0.7971\n",
      "Epoch 31/200\n",
      "29514/29514 [==============================] - 0s 8us/step - loss: 0.3596 - accuracy: 0.7977\n",
      "Epoch 32/200\n",
      "29514/29514 [==============================] - 0s 6us/step - loss: 0.3594 - accuracy: 0.7982\n",
      "Epoch 33/200\n",
      "29514/29514 [==============================] - 0s 11us/step - loss: 0.3586 - accuracy: 0.7998\n",
      "Epoch 34/200\n",
      "29514/29514 [==============================] - 0s 6us/step - loss: 0.3584 - accuracy: 0.7991\n",
      "Epoch 35/200\n",
      "29514/29514 [==============================] - 0s 6us/step - loss: 0.3576 - accuracy: 0.7978\n",
      "Epoch 36/200\n",
      "29514/29514 [==============================] - 0s 7us/step - loss: 0.3577 - accuracy: 0.7984\n",
      "Epoch 37/200\n",
      "29514/29514 [==============================] - 0s 7us/step - loss: 0.3574 - accuracy: 0.7978\n",
      "Epoch 38/200\n",
      "29514/29514 [==============================] - 0s 7us/step - loss: 0.3567 - accuracy: 0.7993\n",
      "Epoch 39/200\n",
      "29514/29514 [==============================] - 0s 7us/step - loss: 0.3563 - accuracy: 0.7985\n",
      "Epoch 40/200\n",
      "29514/29514 [==============================] - 0s 7us/step - loss: 0.3563 - accuracy: 0.7969\n",
      "Epoch 41/200\n",
      "29514/29514 [==============================] - 0s 6us/step - loss: 0.3559 - accuracy: 0.7990\n",
      "Epoch 42/200\n",
      "29514/29514 [==============================] - 0s 7us/step - loss: 0.3557 - accuracy: 0.7989\n",
      "Epoch 43/200\n",
      "29514/29514 [==============================] - 0s 7us/step - loss: 0.3552 - accuracy: 0.7986\n",
      "Epoch 44/200\n",
      "29514/29514 [==============================] - 0s 6us/step - loss: 0.3551 - accuracy: 0.7987\n",
      "Epoch 45/200\n",
      "29514/29514 [==============================] - 0s 7us/step - loss: 0.3546 - accuracy: 0.7983\n",
      "Epoch 46/200\n",
      "29514/29514 [==============================] - 0s 7us/step - loss: 0.3544 - accuracy: 0.7990\n",
      "Epoch 47/200\n",
      "29514/29514 [==============================] - 0s 7us/step - loss: 0.3539 - accuracy: 0.7993\n",
      "Epoch 48/200\n",
      "29514/29514 [==============================] - 0s 6us/step - loss: 0.3537 - accuracy: 0.8000\n",
      "Epoch 49/200\n",
      "29514/29514 [==============================] - 0s 6us/step - loss: 0.3530 - accuracy: 0.7997\n",
      "Epoch 50/200\n",
      "29514/29514 [==============================] - 0s 6us/step - loss: 0.3531 - accuracy: 0.8022\n",
      "Epoch 51/200\n",
      "29514/29514 [==============================] - 0s 6us/step - loss: 0.3523 - accuracy: 0.8007\n",
      "Epoch 52/200\n",
      "29514/29514 [==============================] - 0s 6us/step - loss: 0.3522 - accuracy: 0.8002\n",
      "Epoch 53/200\n",
      "29514/29514 [==============================] - 0s 7us/step - loss: 0.3522 - accuracy: 0.7992\n",
      "Epoch 54/200\n",
      "29514/29514 [==============================] - 0s 6us/step - loss: 0.3519 - accuracy: 0.8003\n",
      "Epoch 55/200\n",
      "29514/29514 [==============================] - 0s 7us/step - loss: 0.3514 - accuracy: 0.8007\n",
      "Epoch 56/200\n",
      "29514/29514 [==============================] - 0s 6us/step - loss: 0.3512 - accuracy: 0.8018\n",
      "Epoch 57/200\n",
      "29514/29514 [==============================] - 0s 6us/step - loss: 0.3511 - accuracy: 0.7989\n",
      "Epoch 58/200\n",
      "29514/29514 [==============================] - 0s 6us/step - loss: 0.3508 - accuracy: 0.8017\n",
      "Epoch 59/200\n",
      "29514/29514 [==============================] - 0s 6us/step - loss: 0.3504 - accuracy: 0.8013\n",
      "Epoch 60/200\n",
      "29514/29514 [==============================] - 0s 6us/step - loss: 0.3499 - accuracy: 0.8020\n",
      "Epoch 61/200\n",
      "29514/29514 [==============================] - 0s 6us/step - loss: 0.3499 - accuracy: 0.8002\n",
      "Epoch 62/200\n",
      "29514/29514 [==============================] - 0s 7us/step - loss: 0.3495 - accuracy: 0.8004\n",
      "Epoch 63/200\n",
      "29514/29514 [==============================] - 0s 6us/step - loss: 0.3490 - accuracy: 0.8020\n",
      "Epoch 64/200\n",
      "29514/29514 [==============================] - 0s 6us/step - loss: 0.3489 - accuracy: 0.7998\n",
      "Epoch 65/200\n",
      "29514/29514 [==============================] - 0s 6us/step - loss: 0.3484 - accuracy: 0.8026\n",
      "Epoch 66/200\n",
      "29514/29514 [==============================] - 0s 6us/step - loss: 0.3481 - accuracy: 0.8011\n",
      "Epoch 67/200\n",
      "29514/29514 [==============================] - 0s 6us/step - loss: 0.3479 - accuracy: 0.8002\n",
      "Epoch 68/200\n",
      "29514/29514 [==============================] - 0s 6us/step - loss: 0.3477 - accuracy: 0.8038\n",
      "Epoch 69/200\n",
      "29514/29514 [==============================] - 0s 5us/step - loss: 0.3471 - accuracy: 0.8015\n",
      "Epoch 70/200\n",
      "29514/29514 [==============================] - 0s 6us/step - loss: 0.3468 - accuracy: 0.8029\n",
      "Epoch 71/200\n",
      "29514/29514 [==============================] - 0s 6us/step - loss: 0.3466 - accuracy: 0.8015\n",
      "Epoch 72/200\n",
      "29514/29514 [==============================] - 0s 5us/step - loss: 0.3464 - accuracy: 0.8015\n",
      "Epoch 73/200\n",
      "29514/29514 [==============================] - 0s 6us/step - loss: 0.3458 - accuracy: 0.8016\n",
      "Epoch 74/200\n",
      "29514/29514 [==============================] - 0s 6us/step - loss: 0.3456 - accuracy: 0.8033\n",
      "Epoch 75/200\n",
      "29514/29514 [==============================] - 0s 6us/step - loss: 0.3458 - accuracy: 0.8054\n",
      "Epoch 76/200\n",
      "29514/29514 [==============================] - 0s 6us/step - loss: 0.3453 - accuracy: 0.8031\n",
      "Epoch 77/200\n",
      "29514/29514 [==============================] - 0s 7us/step - loss: 0.3454 - accuracy: 0.7999\n",
      "Epoch 78/200\n"
     ]
    },
    {
     "name": "stdout",
     "output_type": "stream",
     "text": [
      "29514/29514 [==============================] - 0s 6us/step - loss: 0.3448 - accuracy: 0.8032\n",
      "Epoch 79/200\n",
      "29514/29514 [==============================] - 0s 6us/step - loss: 0.3446 - accuracy: 0.8059\n",
      "Epoch 80/200\n",
      "29514/29514 [==============================] - 0s 6us/step - loss: 0.3444 - accuracy: 0.8036\n",
      "Epoch 81/200\n",
      "29514/29514 [==============================] - 0s 6us/step - loss: 0.3443 - accuracy: 0.8021\n",
      "Epoch 82/200\n",
      "29514/29514 [==============================] - 0s 6us/step - loss: 0.3441 - accuracy: 0.8038\n",
      "Epoch 83/200\n",
      "29514/29514 [==============================] - 0s 7us/step - loss: 0.3437 - accuracy: 0.8036\n",
      "Epoch 84/200\n",
      "29514/29514 [==============================] - 0s 6us/step - loss: 0.3435 - accuracy: 0.8057\n",
      "Epoch 85/200\n",
      "29514/29514 [==============================] - 0s 6us/step - loss: 0.3433 - accuracy: 0.8036\n",
      "Epoch 86/200\n",
      "29514/29514 [==============================] - 0s 6us/step - loss: 0.3429 - accuracy: 0.8055\n",
      "Epoch 87/200\n",
      "29514/29514 [==============================] - 0s 6us/step - loss: 0.3429 - accuracy: 0.8040\n",
      "Epoch 88/200\n",
      "29514/29514 [==============================] - 0s 6us/step - loss: 0.3427 - accuracy: 0.8032\n",
      "Epoch 89/200\n",
      "29514/29514 [==============================] - 0s 7us/step - loss: 0.3425 - accuracy: 0.8048\n",
      "Epoch 90/200\n",
      "29514/29514 [==============================] - 0s 8us/step - loss: 0.3424 - accuracy: 0.8047\n",
      "Epoch 91/200\n",
      "29514/29514 [==============================] - 0s 6us/step - loss: 0.3420 - accuracy: 0.8042\n",
      "Epoch 92/200\n",
      "29514/29514 [==============================] - 0s 6us/step - loss: 0.3417 - accuracy: 0.8051\n",
      "Epoch 93/200\n",
      "29514/29514 [==============================] - 0s 7us/step - loss: 0.3415 - accuracy: 0.8045\n",
      "Epoch 94/200\n",
      "29514/29514 [==============================] - 0s 6us/step - loss: 0.3414 - accuracy: 0.8037\n",
      "Epoch 95/200\n",
      "29514/29514 [==============================] - 0s 6us/step - loss: 0.3410 - accuracy: 0.8041\n",
      "Epoch 96/200\n",
      "29514/29514 [==============================] - 0s 6us/step - loss: 0.3410 - accuracy: 0.8049\n",
      "Epoch 97/200\n",
      "29514/29514 [==============================] - 0s 6us/step - loss: 0.3407 - accuracy: 0.8037\n",
      "Epoch 98/200\n",
      "29514/29514 [==============================] - 0s 6us/step - loss: 0.3404 - accuracy: 0.8032\n",
      "Epoch 99/200\n",
      "29514/29514 [==============================] - 0s 6us/step - loss: 0.3400 - accuracy: 0.8044\n",
      "Epoch 100/200\n",
      "29514/29514 [==============================] - 0s 6us/step - loss: 0.3398 - accuracy: 0.8068\n",
      "Epoch 101/200\n",
      "29514/29514 [==============================] - 0s 6us/step - loss: 0.3396 - accuracy: 0.8031\n",
      "Epoch 102/200\n",
      "29514/29514 [==============================] - 0s 6us/step - loss: 0.3395 - accuracy: 0.8059\n",
      "Epoch 103/200\n",
      "29514/29514 [==============================] - 0s 7us/step - loss: 0.3392 - accuracy: 0.8042\n",
      "Epoch 104/200\n",
      "29514/29514 [==============================] - 0s 6us/step - loss: 0.3390 - accuracy: 0.8072\n",
      "Epoch 105/200\n",
      "29514/29514 [==============================] - 0s 6us/step - loss: 0.3389 - accuracy: 0.8032\n",
      "Epoch 106/200\n",
      "29514/29514 [==============================] - 0s 8us/step - loss: 0.3384 - accuracy: 0.8049\n",
      "Epoch 107/200\n",
      "29514/29514 [==============================] - 0s 11us/step - loss: 0.3387 - accuracy: 0.8073\n",
      "Epoch 108/200\n",
      "29514/29514 [==============================] - 0s 7us/step - loss: 0.3382 - accuracy: 0.8072\n",
      "Epoch 109/200\n",
      "29514/29514 [==============================] - 0s 6us/step - loss: 0.3378 - accuracy: 0.8063\n",
      "Epoch 110/200\n",
      "29514/29514 [==============================] - 0s 7us/step - loss: 0.3378 - accuracy: 0.8062\n",
      "Epoch 111/200\n",
      "29514/29514 [==============================] - 0s 6us/step - loss: 0.3377 - accuracy: 0.8055\n",
      "Epoch 112/200\n",
      "29514/29514 [==============================] - 0s 6us/step - loss: 0.3374 - accuracy: 0.8083\n",
      "Epoch 113/200\n",
      "29514/29514 [==============================] - 0s 9us/step - loss: 0.3372 - accuracy: 0.8062\n",
      "Epoch 114/200\n",
      "29514/29514 [==============================] - 0s 6us/step - loss: 0.3369 - accuracy: 0.8069\n",
      "Epoch 115/200\n",
      "29514/29514 [==============================] - 0s 6us/step - loss: 0.3369 - accuracy: 0.8086\n",
      "Epoch 116/200\n",
      "29514/29514 [==============================] - 0s 8us/step - loss: 0.3370 - accuracy: 0.8071\n",
      "Epoch 117/200\n",
      "29514/29514 [==============================] - 0s 7us/step - loss: 0.3366 - accuracy: 0.8092\n",
      "Epoch 118/200\n",
      "29514/29514 [==============================] - 0s 7us/step - loss: 0.3365 - accuracy: 0.8062\n",
      "Epoch 119/200\n",
      "29514/29514 [==============================] - 0s 8us/step - loss: 0.3362 - accuracy: 0.8066\n",
      "Epoch 120/200\n",
      "29514/29514 [==============================] - 0s 6us/step - loss: 0.3360 - accuracy: 0.8081\n",
      "Epoch 121/200\n",
      "29514/29514 [==============================] - 0s 5us/step - loss: 0.3357 - accuracy: 0.8069\n",
      "Epoch 122/200\n",
      "29514/29514 [==============================] - 0s 7us/step - loss: 0.3359 - accuracy: 0.8081\n",
      "Epoch 123/200\n",
      "29514/29514 [==============================] - 0s 7us/step - loss: 0.3354 - accuracy: 0.8082\n",
      "Epoch 124/200\n",
      "29514/29514 [==============================] - 0s 6us/step - loss: 0.3354 - accuracy: 0.8071\n",
      "Epoch 125/200\n",
      "29514/29514 [==============================] - 0s 6us/step - loss: 0.3351 - accuracy: 0.8081\n",
      "Epoch 126/200\n",
      "29514/29514 [==============================] - 0s 6us/step - loss: 0.3350 - accuracy: 0.8079\n",
      "Epoch 127/200\n",
      "29514/29514 [==============================] - 0s 6us/step - loss: 0.3350 - accuracy: 0.8068\n",
      "Epoch 128/200\n",
      "29514/29514 [==============================] - 0s 6us/step - loss: 0.3346 - accuracy: 0.8078\n",
      "Epoch 129/200\n",
      "29514/29514 [==============================] - 0s 6us/step - loss: 0.3345 - accuracy: 0.8066\n",
      "Epoch 130/200\n",
      "29514/29514 [==============================] - 0s 6us/step - loss: 0.3342 - accuracy: 0.8082\n",
      "Epoch 131/200\n",
      "29514/29514 [==============================] - 0s 6us/step - loss: 0.3342 - accuracy: 0.8093\n",
      "Epoch 132/200\n",
      "29514/29514 [==============================] - 0s 6us/step - loss: 0.3342 - accuracy: 0.8118\n",
      "Epoch 133/200\n",
      "29514/29514 [==============================] - 0s 6us/step - loss: 0.3337 - accuracy: 0.8086\n",
      "Epoch 134/200\n",
      "29514/29514 [==============================] - 0s 6us/step - loss: 0.3339 - accuracy: 0.8080\n",
      "Epoch 135/200\n",
      "29514/29514 [==============================] - 0s 6us/step - loss: 0.3334 - accuracy: 0.8096\n",
      "Epoch 136/200\n",
      "29514/29514 [==============================] - 0s 6us/step - loss: 0.3336 - accuracy: 0.8083\n",
      "Epoch 137/200\n",
      "29514/29514 [==============================] - 0s 6us/step - loss: 0.3335 - accuracy: 0.8100\n",
      "Epoch 138/200\n",
      "29514/29514 [==============================] - 0s 6us/step - loss: 0.3335 - accuracy: 0.8092\n",
      "Epoch 139/200\n",
      "29514/29514 [==============================] - 0s 6us/step - loss: 0.3331 - accuracy: 0.8103\n",
      "Epoch 140/200\n",
      "29514/29514 [==============================] - 0s 6us/step - loss: 0.3331 - accuracy: 0.8089\n",
      "Epoch 141/200\n",
      "29514/29514 [==============================] - 0s 6us/step - loss: 0.3328 - accuracy: 0.8092\n",
      "Epoch 142/200\n",
      "29514/29514 [==============================] - 0s 6us/step - loss: 0.3326 - accuracy: 0.8093\n",
      "Epoch 143/200\n",
      "29514/29514 [==============================] - 0s 6us/step - loss: 0.3322 - accuracy: 0.8106\n",
      "Epoch 144/200\n",
      "29514/29514 [==============================] - 0s 7us/step - loss: 0.3324 - accuracy: 0.8112\n",
      "Epoch 145/200\n",
      "29514/29514 [==============================] - 0s 9us/step - loss: 0.3319 - accuracy: 0.8090\n",
      "Epoch 146/200\n",
      "29514/29514 [==============================] - 0s 6us/step - loss: 0.3319 - accuracy: 0.8110\n",
      "Epoch 147/200\n",
      "29514/29514 [==============================] - 0s 6us/step - loss: 0.3321 - accuracy: 0.8095\n",
      "Epoch 148/200\n",
      "29514/29514 [==============================] - 0s 6us/step - loss: 0.3316 - accuracy: 0.8110\n",
      "Epoch 149/200\n",
      "29514/29514 [==============================] - 0s 5us/step - loss: 0.3318 - accuracy: 0.8102\n",
      "Epoch 150/200\n",
      "29514/29514 [==============================] - 0s 6us/step - loss: 0.3317 - accuracy: 0.8081\n",
      "Epoch 151/200\n",
      "29514/29514 [==============================] - 0s 6us/step - loss: 0.3313 - accuracy: 0.8117\n",
      "Epoch 152/200\n",
      "29514/29514 [==============================] - 0s 5us/step - loss: 0.3312 - accuracy: 0.8104\n",
      "Epoch 153/200\n",
      "29514/29514 [==============================] - 0s 6us/step - loss: 0.3310 - accuracy: 0.8095\n",
      "Epoch 154/200\n"
     ]
    },
    {
     "name": "stdout",
     "output_type": "stream",
     "text": [
      "29514/29514 [==============================] - 0s 6us/step - loss: 0.3310 - accuracy: 0.8107\n",
      "Epoch 155/200\n",
      "29514/29514 [==============================] - 0s 6us/step - loss: 0.3307 - accuracy: 0.8107\n",
      "Epoch 156/200\n",
      "29514/29514 [==============================] - 0s 6us/step - loss: 0.3303 - accuracy: 0.8114\n",
      "Epoch 157/200\n",
      "29514/29514 [==============================] - 0s 6us/step - loss: 0.3304 - accuracy: 0.8088\n",
      "Epoch 158/200\n",
      "29514/29514 [==============================] - 0s 5us/step - loss: 0.3302 - accuracy: 0.8102\n",
      "Epoch 159/200\n",
      "29514/29514 [==============================] - 0s 5us/step - loss: 0.3305 - accuracy: 0.8095\n",
      "Epoch 160/200\n",
      "29514/29514 [==============================] - 0s 5us/step - loss: 0.3304 - accuracy: 0.8103\n",
      "Epoch 161/200\n",
      "29514/29514 [==============================] - 0s 6us/step - loss: 0.3302 - accuracy: 0.8111\n",
      "Epoch 162/200\n",
      "29514/29514 [==============================] - 0s 9us/step - loss: 0.3300 - accuracy: 0.8102\n",
      "Epoch 163/200\n",
      "29514/29514 [==============================] - 0s 9us/step - loss: 0.3295 - accuracy: 0.8098\n",
      "Epoch 164/200\n",
      "29514/29514 [==============================] - 0s 6us/step - loss: 0.3296 - accuracy: 0.8112\n",
      "Epoch 165/200\n",
      "29514/29514 [==============================] - 0s 6us/step - loss: 0.3296 - accuracy: 0.8101\n",
      "Epoch 166/200\n",
      "29514/29514 [==============================] - 0s 7us/step - loss: 0.3293 - accuracy: 0.8089\n",
      "Epoch 167/200\n",
      "29514/29514 [==============================] - 0s 9us/step - loss: 0.3288 - accuracy: 0.8103\n",
      "Epoch 168/200\n",
      "29514/29514 [==============================] - 0s 7us/step - loss: 0.3288 - accuracy: 0.8104\n",
      "Epoch 169/200\n",
      "29514/29514 [==============================] - 0s 7us/step - loss: 0.3293 - accuracy: 0.8115\n",
      "Epoch 170/200\n",
      "29514/29514 [==============================] - 0s 6us/step - loss: 0.3290 - accuracy: 0.8099\n",
      "Epoch 171/200\n",
      "29514/29514 [==============================] - 0s 8us/step - loss: 0.3283 - accuracy: 0.8094\n",
      "Epoch 172/200\n",
      "29514/29514 [==============================] - 0s 6us/step - loss: 0.3278 - accuracy: 0.8103\n",
      "Epoch 173/200\n",
      "29514/29514 [==============================] - 0s 7us/step - loss: 0.3285 - accuracy: 0.8097\n",
      "Epoch 174/200\n",
      "29514/29514 [==============================] - 0s 7us/step - loss: 0.3277 - accuracy: 0.8117\n",
      "Epoch 175/200\n",
      "29514/29514 [==============================] - 0s 6us/step - loss: 0.3276 - accuracy: 0.8091\n",
      "Epoch 176/200\n",
      "29514/29514 [==============================] - 0s 6us/step - loss: 0.3279 - accuracy: 0.8099\n",
      "Epoch 177/200\n",
      "29514/29514 [==============================] - 0s 6us/step - loss: 0.3271 - accuracy: 0.8111\n",
      "Epoch 178/200\n",
      "29514/29514 [==============================] - 0s 7us/step - loss: 0.3275 - accuracy: 0.8115\n",
      "Epoch 179/200\n",
      "29514/29514 [==============================] - 0s 7us/step - loss: 0.3271 - accuracy: 0.8103\n",
      "Epoch 180/200\n",
      "29514/29514 [==============================] - 0s 6us/step - loss: 0.3272 - accuracy: 0.8109\n",
      "Epoch 181/200\n",
      "29514/29514 [==============================] - 0s 6us/step - loss: 0.3270 - accuracy: 0.8106\n",
      "Epoch 182/200\n",
      "29514/29514 [==============================] - 0s 5us/step - loss: 0.3267 - accuracy: 0.8107\n",
      "Epoch 183/200\n",
      "29514/29514 [==============================] - 0s 6us/step - loss: 0.3260 - accuracy: 0.8095\n",
      "Epoch 184/200\n",
      "29514/29514 [==============================] - 0s 6us/step - loss: 0.3265 - accuracy: 0.8110\n",
      "Epoch 185/200\n",
      "29514/29514 [==============================] - 0s 6us/step - loss: 0.3261 - accuracy: 0.8108\n",
      "Epoch 186/200\n",
      "29514/29514 [==============================] - 0s 6us/step - loss: 0.3263 - accuracy: 0.8121\n",
      "Epoch 187/200\n",
      "29514/29514 [==============================] - 0s 6us/step - loss: 0.3262 - accuracy: 0.8079\n",
      "Epoch 188/200\n",
      "29514/29514 [==============================] - 0s 5us/step - loss: 0.3263 - accuracy: 0.8120\n",
      "Epoch 189/200\n",
      "29514/29514 [==============================] - 0s 5us/step - loss: 0.3258 - accuracy: 0.8092\n",
      "Epoch 190/200\n",
      "29514/29514 [==============================] - 0s 6us/step - loss: 0.3260 - accuracy: 0.8104\n",
      "Epoch 191/200\n",
      "29514/29514 [==============================] - 0s 6us/step - loss: 0.3258 - accuracy: 0.8098\n",
      "Epoch 192/200\n",
      "29514/29514 [==============================] - 0s 6us/step - loss: 0.3253 - accuracy: 0.8105\n",
      "Epoch 193/200\n",
      "29514/29514 [==============================] - 0s 7us/step - loss: 0.3256 - accuracy: 0.8093\n",
      "Epoch 194/200\n",
      "29514/29514 [==============================] - 0s 7us/step - loss: 0.3252 - accuracy: 0.8102\n",
      "Epoch 195/200\n",
      "29514/29514 [==============================] - 0s 6us/step - loss: 0.3254 - accuracy: 0.8108\n",
      "Epoch 196/200\n",
      "29514/29514 [==============================] - 0s 7us/step - loss: 0.3250 - accuracy: 0.8103\n",
      "Epoch 197/200\n",
      "29514/29514 [==============================] - 0s 7us/step - loss: 0.3248 - accuracy: 0.8104\n",
      "Epoch 198/200\n",
      "29514/29514 [==============================] - 0s 6us/step - loss: 0.3251 - accuracy: 0.8094\n",
      "Epoch 199/200\n",
      "29514/29514 [==============================] - 0s 6us/step - loss: 0.3246 - accuracy: 0.8125\n",
      "Epoch 200/200\n",
      "29514/29514 [==============================] - 0s 6us/step - loss: 0.3245 - accuracy: 0.8109\n"
     ]
    },
    {
     "data": {
      "text/plain": [
       "<keras.callbacks.callbacks.History at 0x130c16e90>"
      ]
     },
     "execution_count": 59,
     "metadata": {},
     "output_type": "execute_result"
    }
   ],
   "source": [
    "# Training the final model\n",
    "model = models.Sequential()\n",
    "model.add(layers.Dense(16, activation='relu'))\n",
    "model.add(layers.Dense(16, activation='relu'))\n",
    "model.add(layers.Dense(1, activation='sigmoid'))\n",
    "\n",
    "model.compile(optimizer='rmsprop',\n",
    "              loss='binary_crossentropy',\n",
    "              metrics=['accuracy'])\n",
    "\n",
    "model.fit(X_train,y_train,\n",
    "                    epochs=200,\n",
    "                    batch_size=512,\n",
    "                    class_weight=class_weights)"
   ]
  },
  {
   "cell_type": "markdown",
   "metadata": {},
   "source": [
    "After training our final model, we can then use this model to predict our final answer (use our test dataset). "
   ]
  },
  {
   "cell_type": "markdown",
   "metadata": {},
   "source": [
    "## Using a trained network to generate predictions on testing data"
   ]
  },
  {
   "cell_type": "code",
   "execution_count": 60,
   "metadata": {},
   "outputs": [],
   "source": [
    "#Using a trained network to generate predictions on new data\n",
    "y_pred_probability=model.predict(X_test)\n",
    "y_pred=(y_pred_probability>0.5).astype(int)\n",
    "answer=pd.DataFrame(y_pred)"
   ]
  },
  {
   "cell_type": "markdown",
   "metadata": {},
   "source": [
    "After some dataframe operations, we can then export our answer.\n",
    "\n",
    "Now, let's see the prediction result of our final model."
   ]
  },
  {
   "cell_type": "markdown",
   "metadata": {},
   "source": [
    "## The prediction result:\n",
    "    \n",
    "As we talked before, by using our final weighted model, in Kaggle competition, the public score of this model is about 0.83 (the private score is also about 0.82).\n",
    "    \n",
    "In my opinion, this model's great performance in Kaggle competition means this model can effectively predict whether a person makes over 50K a year. That is to say, if we want to predict if a person makes over 50K a year, our final model is trustable and reasonable."
   ]
  },
  {
   "cell_type": "markdown",
   "metadata": {},
   "source": [
    "## Learning progress and reflection\n",
    "\n",
    "To be honest, when I first built a NN model for this assignment, the result was very bad. Even if I used the weighted model technique, I still got bad results (accuracy scores are very unstable).\n",
    "    \n",
    "In order to overcome this situation, I started to do explorative data analysis and I found that 'fnlwgt' is almost unrelated with 'Target'. \n",
    "    \n",
    "Therefore, I decided to drop 'fnlwgt'. Fortunately, my models started to improve and got trustable predictions.\n",
    "    \n",
    "In short, never forget to do EDA before modeling."
   ]
  }
 ],
 "metadata": {
  "kernelspec": {
   "display_name": "Python 3",
   "language": "python",
   "name": "python3"
  },
  "language_info": {
   "codemirror_mode": {
    "name": "ipython",
    "version": 3
   },
   "file_extension": ".py",
   "mimetype": "text/x-python",
   "name": "python",
   "nbconvert_exporter": "python",
   "pygments_lexer": "ipython3",
   "version": "3.7.4"
  }
 },
 "nbformat": 4,
 "nbformat_minor": 4
}
